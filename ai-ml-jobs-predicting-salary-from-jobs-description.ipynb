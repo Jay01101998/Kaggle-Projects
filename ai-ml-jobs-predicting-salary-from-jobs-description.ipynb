{
 "cells": [
  {
   "cell_type": "code",
   "execution_count": 1,
   "id": "3eaa43f1",
   "metadata": {
    "_cell_guid": "b1076dfc-b9ad-4769-8c92-a6c4dae69d19",
    "_uuid": "8f2839f25d086af736a60e9eeb907d3b93b6e0e5",
    "execution": {
     "iopub.execute_input": "2024-03-02T13:32:36.508560Z",
     "iopub.status.busy": "2024-03-02T13:32:36.508071Z",
     "iopub.status.idle": "2024-03-02T13:32:37.453310Z",
     "shell.execute_reply": "2024-03-02T13:32:37.451947Z"
    },
    "papermill": {
     "duration": 0.963468,
     "end_time": "2024-03-02T13:32:37.457559",
     "exception": false,
     "start_time": "2024-03-02T13:32:36.494091",
     "status": "completed"
    },
    "tags": []
   },
   "outputs": [
    {
     "name": "stdout",
     "output_type": "stream",
     "text": [
      "/kaggle/input/ai-and-ml-jobs/final_job_list.csv\n"
     ]
    }
   ],
   "source": [
    "# This Python 3 environment comes with many helpful analytics libraries installed\n",
    "# It is defined by the kaggle/python Docker image: https://github.com/kaggle/docker-python\n",
    "# For example, here's several helpful packages to load\n",
    "\n",
    "import numpy as np # linear algebra\n",
    "import pandas as pd # data processing, CSV file I/O (e.g. pd.read_csv)\n",
    "\n",
    "# Input data files are available in the read-only \"../input/\" directory\n",
    "# For example, running this (by clicking run or pressing Shift+Enter) will list all files under the input directory\n",
    "\n",
    "import os\n",
    "for dirname, _, filenames in os.walk('/kaggle/input'):\n",
    "    for filename in filenames:\n",
    "        print(os.path.join(dirname, filename))\n",
    "\n",
    "# You can write up to 20GB to the current directory (/kaggle/working/) that gets preserved as output when you create a version using \"Save & Run All\" \n",
    "# You can also write temporary files to /kaggle/temp/, but they won't be saved outside of the current session"
   ]
  },
  {
   "cell_type": "code",
   "execution_count": 2,
   "id": "f2b68d9b",
   "metadata": {
    "execution": {
     "iopub.execute_input": "2024-03-02T13:32:37.482288Z",
     "iopub.status.busy": "2024-03-02T13:32:37.481715Z",
     "iopub.status.idle": "2024-03-02T13:32:38.944005Z",
     "shell.execute_reply": "2024-03-02T13:32:38.943066Z"
    },
    "papermill": {
     "duration": 1.477817,
     "end_time": "2024-03-02T13:32:38.946764",
     "exception": false,
     "start_time": "2024-03-02T13:32:37.468947",
     "status": "completed"
    },
    "tags": []
   },
   "outputs": [],
   "source": [
    "import numpy as np\n",
    "import pandas as pd\n",
    "import matplotlib.pyplot as plt\n",
    "import seaborn as sns\n",
    "import warnings\n",
    "warnings.filterwarnings(\"ignore\")\n",
    "plt.rcParams['figure.figsize']=[10,5]"
   ]
  },
  {
   "cell_type": "code",
   "execution_count": 3,
   "id": "157665fc",
   "metadata": {
    "execution": {
     "iopub.execute_input": "2024-03-02T13:32:38.971344Z",
     "iopub.status.busy": "2024-03-02T13:32:38.970669Z",
     "iopub.status.idle": "2024-03-02T13:32:39.112911Z",
     "shell.execute_reply": "2024-03-02T13:32:39.111633Z"
    },
    "papermill": {
     "duration": 0.157611,
     "end_time": "2024-03-02T13:32:39.115581",
     "exception": false,
     "start_time": "2024-03-02T13:32:38.957970",
     "status": "completed"
    },
    "tags": []
   },
   "outputs": [
    {
     "data": {
      "text/html": [
       "<div>\n",
       "<style scoped>\n",
       "    .dataframe tbody tr th:only-of-type {\n",
       "        vertical-align: middle;\n",
       "    }\n",
       "\n",
       "    .dataframe tbody tr th {\n",
       "        vertical-align: top;\n",
       "    }\n",
       "\n",
       "    .dataframe thead th {\n",
       "        text-align: right;\n",
       "    }\n",
       "</style>\n",
       "<table border=\"1\" class=\"dataframe\">\n",
       "  <thead>\n",
       "    <tr style=\"text-align: right;\">\n",
       "      <th></th>\n",
       "      <th>Title</th>\n",
       "      <th>Company</th>\n",
       "      <th>Location</th>\n",
       "      <th>Type of Positions</th>\n",
       "      <th>Job Description</th>\n",
       "      <th>Salary</th>\n",
       "      <th>Identified_Skills</th>\n",
       "    </tr>\n",
       "  </thead>\n",
       "  <tbody>\n",
       "    <tr>\n",
       "      <th>0</th>\n",
       "      <td>Staff Applied Scientist, Marketplace</td>\n",
       "      <td>ThredUp Inc.</td>\n",
       "      <td>CA</td>\n",
       "      <td>Full-time</td>\n",
       "      <td>\\nAbout thredUP thredUP is transforming resale...</td>\n",
       "      <td>190000.0</td>\n",
       "      <td>['python', 'machine learning', 'aws', 'sql']</td>\n",
       "    </tr>\n",
       "    <tr>\n",
       "      <th>1</th>\n",
       "      <td>Prompt Engineer for Generative AI (chatbot and...</td>\n",
       "      <td>Vicarious Talent Agency</td>\n",
       "      <td>WA</td>\n",
       "      <td>Full-time</td>\n",
       "      <td>We are Vicarious, a talent agency that represe...</td>\n",
       "      <td>70000.0</td>\n",
       "      <td>['python', 'machine learning', 'deep learning'...</td>\n",
       "    </tr>\n",
       "    <tr>\n",
       "      <th>2</th>\n",
       "      <td>Data Systems Analyst/Architect</td>\n",
       "      <td>General Dynamics Information Technology</td>\n",
       "      <td>Remote</td>\n",
       "      <td>Full-time</td>\n",
       "      <td>Clearance Level None Category Data Science Loc...</td>\n",
       "      <td>104000.0</td>\n",
       "      <td>['machine learning', 'aws', 'azure', 'nosql', ...</td>\n",
       "    </tr>\n",
       "    <tr>\n",
       "      <th>3</th>\n",
       "      <td>AIOps Principle Data Scientist</td>\n",
       "      <td>CVS Health</td>\n",
       "      <td>CT</td>\n",
       "      <td>Full-time</td>\n",
       "      <td>\\nBring your heart to CVS Health. Every one of...</td>\n",
       "      <td>140000.0</td>\n",
       "      <td>['python', 'machine learning', 'aws', 'gcp']</td>\n",
       "    </tr>\n",
       "    <tr>\n",
       "      <th>4</th>\n",
       "      <td>Sr. Data Scientist</td>\n",
       "      <td>Altak Group</td>\n",
       "      <td>Remote</td>\n",
       "      <td>Full-time</td>\n",
       "      <td>Job Summary:\\nWe are seeking an experienced Da...</td>\n",
       "      <td>136000.0</td>\n",
       "      <td>['python', 'machine learning', 'tableau', 'aws...</td>\n",
       "    </tr>\n",
       "  </tbody>\n",
       "</table>\n",
       "</div>"
      ],
      "text/plain": [
       "                                               Title  \\\n",
       "0               Staff Applied Scientist, Marketplace   \n",
       "1  Prompt Engineer for Generative AI (chatbot and...   \n",
       "2                     Data Systems Analyst/Architect   \n",
       "3                     AIOps Principle Data Scientist   \n",
       "4                                 Sr. Data Scientist   \n",
       "\n",
       "                                   Company Location Type of Positions  \\\n",
       "0                             ThredUp Inc.       CA         Full-time   \n",
       "1                  Vicarious Talent Agency       WA         Full-time   \n",
       "2  General Dynamics Information Technology   Remote         Full-time   \n",
       "3                               CVS Health       CT         Full-time   \n",
       "4                              Altak Group   Remote         Full-time   \n",
       "\n",
       "                                     Job Description    Salary  \\\n",
       "0  \\nAbout thredUP thredUP is transforming resale...  190000.0   \n",
       "1  We are Vicarious, a talent agency that represe...   70000.0   \n",
       "2  Clearance Level None Category Data Science Loc...  104000.0   \n",
       "3  \\nBring your heart to CVS Health. Every one of...  140000.0   \n",
       "4  Job Summary:\\nWe are seeking an experienced Da...  136000.0   \n",
       "\n",
       "                                   Identified_Skills  \n",
       "0       ['python', 'machine learning', 'aws', 'sql']  \n",
       "1  ['python', 'machine learning', 'deep learning'...  \n",
       "2  ['machine learning', 'aws', 'azure', 'nosql', ...  \n",
       "3       ['python', 'machine learning', 'aws', 'gcp']  \n",
       "4  ['python', 'machine learning', 'tableau', 'aws...  "
      ]
     },
     "execution_count": 3,
     "metadata": {},
     "output_type": "execute_result"
    }
   ],
   "source": [
    "df=pd.read_csv('/kaggle/input/ai-and-ml-jobs/final_job_list.csv')\n",
    "df.head()"
   ]
  },
  {
   "cell_type": "code",
   "execution_count": 4,
   "id": "29857e6a",
   "metadata": {
    "execution": {
     "iopub.execute_input": "2024-03-02T13:32:39.141261Z",
     "iopub.status.busy": "2024-03-02T13:32:39.140803Z",
     "iopub.status.idle": "2024-03-02T13:32:39.147089Z",
     "shell.execute_reply": "2024-03-02T13:32:39.146133Z"
    },
    "papermill": {
     "duration": 0.022271,
     "end_time": "2024-03-02T13:32:39.149150",
     "exception": false,
     "start_time": "2024-03-02T13:32:39.126879",
     "status": "completed"
    },
    "tags": []
   },
   "outputs": [
    {
     "data": {
      "text/plain": [
       "(692, 7)"
      ]
     },
     "execution_count": 4,
     "metadata": {},
     "output_type": "execute_result"
    }
   ],
   "source": [
    "df.shape"
   ]
  },
  {
   "cell_type": "code",
   "execution_count": 5,
   "id": "90d62564",
   "metadata": {
    "execution": {
     "iopub.execute_input": "2024-03-02T13:32:39.173258Z",
     "iopub.status.busy": "2024-03-02T13:32:39.172884Z",
     "iopub.status.idle": "2024-03-02T13:32:39.179137Z",
     "shell.execute_reply": "2024-03-02T13:32:39.178334Z"
    },
    "papermill": {
     "duration": 0.020811,
     "end_time": "2024-03-02T13:32:39.181079",
     "exception": false,
     "start_time": "2024-03-02T13:32:39.160268",
     "status": "completed"
    },
    "tags": []
   },
   "outputs": [
    {
     "data": {
      "text/plain": [
       "Index(['Title', 'Company', 'Location', 'Type of Positions', 'Job Description',\n",
       "       'Salary', 'Identified_Skills'],\n",
       "      dtype='object')"
      ]
     },
     "execution_count": 5,
     "metadata": {},
     "output_type": "execute_result"
    }
   ],
   "source": [
    "df.columns"
   ]
  },
  {
   "cell_type": "code",
   "execution_count": 6,
   "id": "9598f715",
   "metadata": {
    "execution": {
     "iopub.execute_input": "2024-03-02T13:32:39.206300Z",
     "iopub.status.busy": "2024-03-02T13:32:39.205182Z",
     "iopub.status.idle": "2024-03-02T13:32:39.233842Z",
     "shell.execute_reply": "2024-03-02T13:32:39.232921Z"
    },
    "papermill": {
     "duration": 0.043778,
     "end_time": "2024-03-02T13:32:39.236308",
     "exception": false,
     "start_time": "2024-03-02T13:32:39.192530",
     "status": "completed"
    },
    "tags": []
   },
   "outputs": [
    {
     "name": "stdout",
     "output_type": "stream",
     "text": [
      "<class 'pandas.core.frame.DataFrame'>\n",
      "RangeIndex: 692 entries, 0 to 691\n",
      "Data columns (total 7 columns):\n",
      " #   Column             Non-Null Count  Dtype  \n",
      "---  ------             --------------  -----  \n",
      " 0   Title              692 non-null    object \n",
      " 1   Company            692 non-null    object \n",
      " 2   Location           692 non-null    object \n",
      " 3   Type of Positions  692 non-null    object \n",
      " 4   Job Description    692 non-null    object \n",
      " 5   Salary             692 non-null    float64\n",
      " 6   Identified_Skills  692 non-null    object \n",
      "dtypes: float64(1), object(6)\n",
      "memory usage: 38.0+ KB\n"
     ]
    }
   ],
   "source": [
    "df.info()"
   ]
  },
  {
   "cell_type": "code",
   "execution_count": 7,
   "id": "57f6a754",
   "metadata": {
    "execution": {
     "iopub.execute_input": "2024-03-02T13:32:39.261616Z",
     "iopub.status.busy": "2024-03-02T13:32:39.260710Z",
     "iopub.status.idle": "2024-03-02T13:32:39.282558Z",
     "shell.execute_reply": "2024-03-02T13:32:39.281473Z"
    },
    "papermill": {
     "duration": 0.037223,
     "end_time": "2024-03-02T13:32:39.285128",
     "exception": false,
     "start_time": "2024-03-02T13:32:39.247905",
     "status": "completed"
    },
    "tags": []
   },
   "outputs": [
    {
     "data": {
      "text/plain": [
       "Title                212\n",
       "Company              207\n",
       "Location              38\n",
       "Type of Positions      1\n",
       "Job Description      270\n",
       "Salary               177\n",
       "Identified_Skills    132\n",
       "dtype: int64"
      ]
     },
     "execution_count": 7,
     "metadata": {},
     "output_type": "execute_result"
    }
   ],
   "source": [
    "df.nunique()"
   ]
  },
  {
   "cell_type": "code",
   "execution_count": 8,
   "id": "a06fc02d",
   "metadata": {
    "execution": {
     "iopub.execute_input": "2024-03-02T13:32:39.310920Z",
     "iopub.status.busy": "2024-03-02T13:32:39.310480Z",
     "iopub.status.idle": "2024-03-02T13:32:39.330491Z",
     "shell.execute_reply": "2024-03-02T13:32:39.329136Z"
    },
    "papermill": {
     "duration": 0.036231,
     "end_time": "2024-03-02T13:32:39.333013",
     "exception": false,
     "start_time": "2024-03-02T13:32:39.296782",
     "status": "completed"
    },
    "tags": []
   },
   "outputs": [
    {
     "data": {
      "text/html": [
       "<div>\n",
       "<style scoped>\n",
       "    .dataframe tbody tr th:only-of-type {\n",
       "        vertical-align: middle;\n",
       "    }\n",
       "\n",
       "    .dataframe tbody tr th {\n",
       "        vertical-align: top;\n",
       "    }\n",
       "\n",
       "    .dataframe thead th {\n",
       "        text-align: right;\n",
       "    }\n",
       "</style>\n",
       "<table border=\"1\" class=\"dataframe\">\n",
       "  <thead>\n",
       "    <tr style=\"text-align: right;\">\n",
       "      <th></th>\n",
       "      <th>Title</th>\n",
       "      <th>Company</th>\n",
       "      <th>Location</th>\n",
       "      <th>Job Description</th>\n",
       "      <th>Salary</th>\n",
       "      <th>Identified_Skills</th>\n",
       "    </tr>\n",
       "  </thead>\n",
       "  <tbody>\n",
       "    <tr>\n",
       "      <th>0</th>\n",
       "      <td>Staff Applied Scientist, Marketplace</td>\n",
       "      <td>ThredUp Inc.</td>\n",
       "      <td>CA</td>\n",
       "      <td>\\nAbout thredUP thredUP is transforming resale...</td>\n",
       "      <td>190000.0</td>\n",
       "      <td>['python', 'machine learning', 'aws', 'sql']</td>\n",
       "    </tr>\n",
       "    <tr>\n",
       "      <th>1</th>\n",
       "      <td>Prompt Engineer for Generative AI (chatbot and...</td>\n",
       "      <td>Vicarious Talent Agency</td>\n",
       "      <td>WA</td>\n",
       "      <td>We are Vicarious, a talent agency that represe...</td>\n",
       "      <td>70000.0</td>\n",
       "      <td>['python', 'machine learning', 'deep learning'...</td>\n",
       "    </tr>\n",
       "    <tr>\n",
       "      <th>2</th>\n",
       "      <td>Data Systems Analyst/Architect</td>\n",
       "      <td>General Dynamics Information Technology</td>\n",
       "      <td>Remote</td>\n",
       "      <td>Clearance Level None Category Data Science Loc...</td>\n",
       "      <td>104000.0</td>\n",
       "      <td>['machine learning', 'aws', 'azure', 'nosql', ...</td>\n",
       "    </tr>\n",
       "    <tr>\n",
       "      <th>3</th>\n",
       "      <td>AIOps Principle Data Scientist</td>\n",
       "      <td>CVS Health</td>\n",
       "      <td>CT</td>\n",
       "      <td>\\nBring your heart to CVS Health. Every one of...</td>\n",
       "      <td>140000.0</td>\n",
       "      <td>['python', 'machine learning', 'aws', 'gcp']</td>\n",
       "    </tr>\n",
       "    <tr>\n",
       "      <th>4</th>\n",
       "      <td>Sr. Data Scientist</td>\n",
       "      <td>Altak Group</td>\n",
       "      <td>Remote</td>\n",
       "      <td>Job Summary:\\nWe are seeking an experienced Da...</td>\n",
       "      <td>136000.0</td>\n",
       "      <td>['python', 'machine learning', 'tableau', 'aws...</td>\n",
       "    </tr>\n",
       "  </tbody>\n",
       "</table>\n",
       "</div>"
      ],
      "text/plain": [
       "                                               Title  \\\n",
       "0               Staff Applied Scientist, Marketplace   \n",
       "1  Prompt Engineer for Generative AI (chatbot and...   \n",
       "2                     Data Systems Analyst/Architect   \n",
       "3                     AIOps Principle Data Scientist   \n",
       "4                                 Sr. Data Scientist   \n",
       "\n",
       "                                   Company Location  \\\n",
       "0                             ThredUp Inc.       CA   \n",
       "1                  Vicarious Talent Agency       WA   \n",
       "2  General Dynamics Information Technology   Remote   \n",
       "3                               CVS Health       CT   \n",
       "4                              Altak Group   Remote   \n",
       "\n",
       "                                     Job Description    Salary  \\\n",
       "0  \\nAbout thredUP thredUP is transforming resale...  190000.0   \n",
       "1  We are Vicarious, a talent agency that represe...   70000.0   \n",
       "2  Clearance Level None Category Data Science Loc...  104000.0   \n",
       "3  \\nBring your heart to CVS Health. Every one of...  140000.0   \n",
       "4  Job Summary:\\nWe are seeking an experienced Da...  136000.0   \n",
       "\n",
       "                                   Identified_Skills  \n",
       "0       ['python', 'machine learning', 'aws', 'sql']  \n",
       "1  ['python', 'machine learning', 'deep learning'...  \n",
       "2  ['machine learning', 'aws', 'azure', 'nosql', ...  \n",
       "3       ['python', 'machine learning', 'aws', 'gcp']  \n",
       "4  ['python', 'machine learning', 'tableau', 'aws...  "
      ]
     },
     "execution_count": 8,
     "metadata": {},
     "output_type": "execute_result"
    }
   ],
   "source": [
    "df=df.drop('Type of Positions',axis=1)\n",
    "df.head()"
   ]
  },
  {
   "cell_type": "code",
   "execution_count": 9,
   "id": "db52d36a",
   "metadata": {
    "execution": {
     "iopub.execute_input": "2024-03-02T13:32:39.359073Z",
     "iopub.status.busy": "2024-03-02T13:32:39.358649Z",
     "iopub.status.idle": "2024-03-02T13:32:39.368998Z",
     "shell.execute_reply": "2024-03-02T13:32:39.367845Z"
    },
    "papermill": {
     "duration": 0.026481,
     "end_time": "2024-03-02T13:32:39.371457",
     "exception": false,
     "start_time": "2024-03-02T13:32:39.344976",
     "status": "completed"
    },
    "tags": []
   },
   "outputs": [
    {
     "data": {
      "text/plain": [
       "Company\n",
       "Recruiting From Scratch                            284\n",
       "Booz Allen Hamilton                                 21\n",
       "CVS Health                                          10\n",
       "Microsoft                                            9\n",
       "NVIDIA                                               7\n",
       "                                                  ... \n",
       "Ibotta                                               1\n",
       "US Assistant Secretary for Public and Indian...      1\n",
       "US Office of Enterprise Integration                  1\n",
       "General Atomics and Affiliated Companies             1\n",
       "accelerate360                                        1\n",
       "Name: count, Length: 207, dtype: int64"
      ]
     },
     "execution_count": 9,
     "metadata": {},
     "output_type": "execute_result"
    }
   ],
   "source": [
    "df['Company'].value_counts()"
   ]
  },
  {
   "cell_type": "code",
   "execution_count": 10,
   "id": "e07af259",
   "metadata": {
    "execution": {
     "iopub.execute_input": "2024-03-02T13:32:39.397258Z",
     "iopub.status.busy": "2024-03-02T13:32:39.396851Z",
     "iopub.status.idle": "2024-03-02T13:32:40.944947Z",
     "shell.execute_reply": "2024-03-02T13:32:40.943339Z"
    },
    "papermill": {
     "duration": 1.564381,
     "end_time": "2024-03-02T13:32:40.947884",
     "exception": false,
     "start_time": "2024-03-02T13:32:39.383503",
     "status": "completed"
    },
    "tags": []
   },
   "outputs": [
    {
     "name": "stdout",
     "output_type": "stream",
     "text": [
      "[nltk_data] Downloading package stopwords to /usr/share/nltk_data...\n",
      "[nltk_data]   Package stopwords is already up-to-date!\n",
      "[nltk_data] Downloading package wordnet to /usr/share/nltk_data...\n",
      "[nltk_data]   Package wordnet is already up-to-date!\n"
     ]
    }
   ],
   "source": [
    "import nltk\n",
    "nltk.download('stopwords')\n",
    "from nltk.corpus import stopwords\n",
    "from nltk.tokenize import word_tokenize,sent_tokenize\n",
    "from nltk.stem import PorterStemmer\n",
    "from nltk.stem import WordNetLemmatizer\n",
    "nltk.download('wordnet')  \n",
    "from sklearn.feature_extraction.text import CountVectorizer,TfidfVectorizer"
   ]
  },
  {
   "cell_type": "code",
   "execution_count": 11,
   "id": "cf8cb37e",
   "metadata": {
    "execution": {
     "iopub.execute_input": "2024-03-02T13:32:40.974376Z",
     "iopub.status.busy": "2024-03-02T13:32:40.973951Z",
     "iopub.status.idle": "2024-03-02T13:32:40.980021Z",
     "shell.execute_reply": "2024-03-02T13:32:40.978780Z"
    },
    "papermill": {
     "duration": 0.023514,
     "end_time": "2024-03-02T13:32:40.983588",
     "exception": false,
     "start_time": "2024-03-02T13:32:40.960074",
     "status": "completed"
    },
    "tags": []
   },
   "outputs": [
    {
     "name": "stdout",
     "output_type": "stream",
     "text": [
      "Clearance Level None Category Data Science Location Remote, Working from the USA \n",
      "\n",
      "\n",
      "Public Trust: MBI Full 5C (T3) \n",
      "Requisition Type: Regular \n",
      "Your Impact \n",
      "Own your opportunity to work alongside federal civilian agencies. Make an impact by providing services that help the government ensure the well being of U.S. citizens.\n",
      " Job Description\n",
      "\n",
      " GDIT is seeking a Data Systems Analyst/Architect to support the NIH Office of Management (OM) Administrative Systems Technology Officer (ASTO) in undertaking a multi-year effort to implement a large-scale data strategy and governance program. This initiative represents a foundational change in the data support model throughout the enterprise performance lifecycle (EPLC) of the numerous systems which provide decision support data to the multiple mission-critical areas of responsibility within the OM. This position is an internal and external customer-facing role that works directly with leadership, stakeholders, business management teams, and technical management teams to build relationships with stakeholders and exceed their expectations.\n",
      "\n",
      " You will serve as a liaison between the ASTO and NIH stakeholders to modernize business systems data architecture by implementing NIH’s Digital Strategy. Other responsibilities include, but are not limited to, support for project management activities, data integration requirements, system integration management, and administrative support.\n",
      "\n",
      " Work Visa sponsorship will not be provided for this role.  HOW A DATA SYSTEMS ANALYST/ARCHITECT WILL MAKE AN IMPACT\n",
      "\n",
      " Lever expertise in enterprise data architecture, management, and governance to lead projects and teams of internal and external stakeholders\n",
      " Gather and document system design requirements, coordinate interviews for data documentation and analysis. Document ‘as is’ state of system and projected future state, including performing intersystem data mapping as needed. Present findings to stakeholders, and document processes and lessons learned\n",
      " Lead the development of analytic systems approach and framework design in cooperation with internal partners\n",
      " Present future design scenarios with strengths and weaknesses of each option. Score design options based on ability to fulfill stakeholder requirements within the technical constraints of the deployment environment\n",
      " Ensure the final design fits the customer requirements and is a scalable, open model that can be handed off to the customer to perpetuate once initial implementation is completed\n",
      "\n",
      "\n",
      " WHAT YOU’LL NEED TO SUCCEED\n",
      "\n",
      "\n",
      " Education: MS (or equivalent experience);\n",
      "\n",
      "\n",
      "\n",
      "Required Experience: Minimum of 8 years of experience planning and implementing IT solutions from diverse software platforms across large and diverse organizations\n",
      "Required Technical Skills:\n",
      "\n",
      "\n",
      " Minimum of six years with modern database architectures, such as RDBMS, NoSQL, key value\n",
      " Good understanding of leading cloud platforms, including AWS, Azure, and Google\n",
      " Familiarity with data governance\n",
      " Minimum of four years of experience with data cataloging\n",
      " Minimum of four years of experience with Extract, Transform, Load (ETL) processes and tools\n",
      " Familiarity with Project Management Institute (PMI) project management tools, techniques, and documentation with the ability to prescribe those into adaptable and flexible project plans\n",
      " Experience with communications and customer engagement for enterprise-wide software platform applications\n",
      " Experience contributing to change management and project management plans on large-scale projects\n",
      " Excellent Business Case development capabilities to include risk identification and risk management\n",
      "\n",
      "\n",
      "Security Clearance: Ability to acquire Level 5 Public Trust\n",
      "Required Skills and Abilities:\n",
      "\n",
      "\n",
      " Ability to effectively communicate and the ability to lead discussions with strong facilitation skills\n",
      " Ability to exhibit professional diplomacy, while effectively relating to people at all organizational levels internally and externally\n",
      " Proficiency in the use and integration of Microsoft 365 applications; specifically, Outlook, Teams, Word, Excel, Planner, Lists, Forms, and PowerPoint\n",
      " Experience working on multiple projects at once, balancing priorities and multitasking\n",
      "\n",
      "\n",
      "Preferred Skills:\n",
      "\n",
      "\n",
      " Minimum of two years of direct experience working with NIH or other federal agencies within HHS\n",
      " Experience determining requirements for artifacts and records required by the HHS Enterprise Performance Lifecycle framework\n",
      " Experience with IT Infrastructure Library (ITIL) processes for ITSM\n",
      " Agile, SAFe, or other certifications for ITSM delivery\n",
      " Understanding of Artificial Intelligence and Machine Learning technologies\n",
      " Literacy with and the ability to ensure compliance with Federal requirements for accounting, record-keeping, project management, security, and other regulatory requirements\n",
      "\n",
      "\n",
      "Location: Remote\n",
      "\n",
      " GDIT IS YOUR PLACE:\n",
      "  \n",
      "\n",
      "401K with company match\n",
      "Comprehensive health and wellness packages\n",
      "Internal mobility team dedicated to helping you own your career\n",
      "Professional growth opportunities including paid education and certifications\n",
      "Cutting-edge technology you can learn from\n",
      "Rest and recharge with paid vacation and holidays\n",
      "\n",
      "\n",
      " #GDITFedHealthJobs\n",
      " #GDITFedHealthJobs-NIH\n",
      " #GDITPriority\n",
      "\n",
      "\n"
     ]
    }
   ],
   "source": [
    "print(df['Job Description'][2])"
   ]
  },
  {
   "cell_type": "code",
   "execution_count": 12,
   "id": "309b7994",
   "metadata": {
    "execution": {
     "iopub.execute_input": "2024-03-02T13:32:41.011215Z",
     "iopub.status.busy": "2024-03-02T13:32:41.010086Z",
     "iopub.status.idle": "2024-03-02T13:32:41.015243Z",
     "shell.execute_reply": "2024-03-02T13:32:41.014144Z"
    },
    "papermill": {
     "duration": 0.021417,
     "end_time": "2024-03-02T13:32:41.017436",
     "exception": false,
     "start_time": "2024-03-02T13:32:40.996019",
     "status": "completed"
    },
    "tags": []
   },
   "outputs": [],
   "source": [
    "import re"
   ]
  },
  {
   "cell_type": "code",
   "execution_count": 13,
   "id": "251ca8da",
   "metadata": {
    "execution": {
     "iopub.execute_input": "2024-03-02T13:32:41.044622Z",
     "iopub.status.busy": "2024-03-02T13:32:41.044195Z",
     "iopub.status.idle": "2024-03-02T13:32:41.050626Z",
     "shell.execute_reply": "2024-03-02T13:32:41.049270Z"
    },
    "papermill": {
     "duration": 0.022994,
     "end_time": "2024-03-02T13:32:41.052907",
     "exception": false,
     "start_time": "2024-03-02T13:32:41.029913",
     "status": "completed"
    },
    "tags": []
   },
   "outputs": [],
   "source": [
    "def preprocessing_text(text):\n",
    "    #lemmatizer = WordNetLemmatizer()\n",
    "    #emoji_pattern = r'^(?:[\\u2700-\\u27bf]|(?:\\ud83c[\\udde6-\\uddff]){1,2}|(?:\\ud83d[\\udc00-\\ude4f]){1,2}|[\\ud800-\\udbff][\\udc00-\\udfff]|[\\u0021-\\u002f\\u003a-\\u0040\\u005b-\\u0060\\u007b-\\u007e]|\\u3299|\\u3297|\\u303d|\\u3030|\\u24c2|\\ud83c[\\udd70-\\udd71]|\\ud83c[\\udd7e-\\udd7f]|\\ud83c\\udd8e|\\ud83c[\\udd91-\\udd9a]|\\ud83c[\\udde6-\\uddff]|\\ud83c[\\ude01-\\ude02]|\\ud83c\\ude1a|\\ud83c\\ude2f|\\ud83c[\\ude32-\\ude3a]|\\ud83c[\\ude50-\\ude51]|\\u203c|\\u2049|\\u25aa|\\u25ab|\\u25b6|\\u25c0|\\u25fb|\\u25fc|\\u25fd|\\u25fe|\\u2600|\\u2601|\\u260e|\\u2611|[^\\u0000-\\u007F])+$'\n",
    "    text= text.lower()\n",
    "    text = text.split()\n",
    "    #text = [lemmatizer.lemmatize(word) for word in text if not word in set(stopwords.words('english'))]\n",
    "    text = ' '.join(text)  \n",
    "    text = re.sub(r'[0-9]+', '', text)\n",
    "    text = re.sub(r'[^\\w\\s]', '', text)\n",
    "    #text = re.sub(emoji_pattern, '', text)\n",
    "    text= re.sub(r'\\s+', ' ', text)\n",
    "    return text"
   ]
  },
  {
   "cell_type": "code",
   "execution_count": 14,
   "id": "6a4f0057",
   "metadata": {
    "execution": {
     "iopub.execute_input": "2024-03-02T13:32:41.080619Z",
     "iopub.status.busy": "2024-03-02T13:32:41.080231Z",
     "iopub.status.idle": "2024-03-02T13:32:41.088614Z",
     "shell.execute_reply": "2024-03-02T13:32:41.087552Z"
    },
    "papermill": {
     "duration": 0.024913,
     "end_time": "2024-03-02T13:32:41.090731",
     "exception": false,
     "start_time": "2024-03-02T13:32:41.065818",
     "status": "completed"
    },
    "tags": []
   },
   "outputs": [
    {
     "data": {
      "text/plain": [
       "'about thredup thredup is transforming resale with technology and a mission to inspire a new generation of consumers to think secondhand first by making it easy to buy and sell secondhand thredup has become one of the worlds largest online resale platforms for apparel shoes and accessories sellers love thredup because we make it easy to clean out their closets and unlock value for themselves or for the charity of their choice while doing good for the planet buyers love shopping value premium and luxury brands all in one place at up to off estimated retail price our proprietary operating platform is the foundation for our managed marketplace and consists of distributed processing infrastructure proprietary software and systems and data science expertise with thredups resaleasaservice some of the worlds leading brands and retailers are leveraging our platform to deliver customizable scalable resale experiences to their customers thredup has processed over million unique secondhand items from brands across categories by extending the life cycle of clothing thredup is changing the way consumers shop and ushering in a more sustainable future for the fashion industry job description as thredup leads the charge in sustainable fashion we seek an applied scientist with a focus on pricing and marketplace optimization your role is to balance the equation between supply and demand using your expertise in economics and data science to optimize our twosided marketplace this position calls for an analytical savant who is passionate about modeling complex systems and generating insights that drive strategic pricing and marketplace health how you will make an impact as an applied scientist your work will be pivotal in creating an equilibrium that benefits both sellers and buyers ensuring competitive pricing while maintaining healthy marketplace dynamics by crafting and refining pricing algorithms you will directly contribute to thredups mission of inspiring a new generation to think secondhand first in this role youll get to develop and implement dynamic pricing models to optimize marketplace liquidity and profitability conduct indepth analysis of marketplace trends to inform pricing strategies and inventory selection utilize econometric methods to forecast market behaviors and identify revenuemaximizing opportunities collaborate with data science and engineering teams to integrate your models into our marketplace platform design and analyze ab tests to understand the impact of pricing strategies on customer behavior and marketplace performance provide thought leadership on marketplace economics influencing strategic decisions across the company what we are looking for ms or phddegree in economics statistics applied mathematics or a related field years of industry experience as applied or data scientist or equivalent experience applying machine learning techniques and statistical analysis to complex economic problems proficiency in data querying and manipulation with sql along with programming skills in python experience with big data technologies experience communicating complex concepts clearly to crossfunctional teams experience with optimization modeling techniques linear programming mixed integer programming and advanced statistical modeling techniques preferred but not required years of industry experience familiarity with aws experience in marketplace dynamics or pricing strategy at thredup your base pay is one part of your total compensation package this role pays between and and your actual base pay will depend on your skills qualifications experience and location many thredup employees also have the opportunity to own shares of thredup stock thredup employees are eligible for discretionary restricted stock unit awards as well as a discount when purchasing thredup stock if voluntarily participating in thredups employee stock purchase plan subject to eligibility requirements youll also receive other benefits comprehensive medical dental coverage vision k life and disability insurance what we offer day work week with fridays off hybrid work environment days in the office and day remote each week competitive salary we leverage market data many thredup employees also have the opportunity to own shares of thredup stock and are eligible for discretionary restricted stock unit awards employee stock purchase plan flexible pto take the time you need company holidays paid sabbatical after years of full time employment generous paid parental leave for new mothers and fathers medical dental vision k life and disability insurance offered we live by our core values of transparency speakingup thinking big infinite learning influencing outcomes seeking the truth time magazines most influential companies of wwds most influential esg leaders time magazines best inventions shoptalks atlis awards business insiders retail tech power players incs power partner awards lattices people success awards digidays worklife award raas inc magazine power partner awards thrift the look time magazine the best inventions of winner of lattices people vision recognizing thredup as a top place to work for our investment in professional development and our innovations in worklife integration we believe diversity inclusion and belonging is key for our team at thredup our mission has been built on extending the lives of millions of unique clothing items much like our inventory we are proud to have fostered a workplace that is oneofakind as a company focused on diversity inclusion and belonging we are committed to ensuring our employees are comfortable bringing their authentic selves to work every day a unique perspective is critical to solving complex problems and inspiring a new generation to think secondhand first be you if you are a candidate with a disability and have a reasonable accommodation request for the job application process please email disabilitysupportthredupcom the specific details of your disability related accommodation request this email address is reserved for candidates with disabilities only general application inquiries will not receive a response'"
      ]
     },
     "execution_count": 14,
     "metadata": {},
     "output_type": "execute_result"
    }
   ],
   "source": [
    "preprocessing_text(df['Job Description'][0])"
   ]
  },
  {
   "cell_type": "code",
   "execution_count": null,
   "id": "e2612612",
   "metadata": {
    "papermill": {
     "duration": 0.013103,
     "end_time": "2024-03-02T13:32:41.116531",
     "exception": false,
     "start_time": "2024-03-02T13:32:41.103428",
     "status": "completed"
    },
    "tags": []
   },
   "outputs": [],
   "source": []
  },
  {
   "cell_type": "code",
   "execution_count": null,
   "id": "d4ce7279",
   "metadata": {
    "papermill": {
     "duration": 0.012772,
     "end_time": "2024-03-02T13:32:41.142489",
     "exception": false,
     "start_time": "2024-03-02T13:32:41.129717",
     "status": "completed"
    },
    "tags": []
   },
   "outputs": [],
   "source": []
  },
  {
   "cell_type": "code",
   "execution_count": 15,
   "id": "eb077a57",
   "metadata": {
    "execution": {
     "iopub.execute_input": "2024-03-02T13:32:41.170192Z",
     "iopub.status.busy": "2024-03-02T13:32:41.169310Z",
     "iopub.status.idle": "2024-03-02T13:32:41.726549Z",
     "shell.execute_reply": "2024-03-02T13:32:41.725796Z"
    },
    "papermill": {
     "duration": 0.574049,
     "end_time": "2024-03-02T13:32:41.729346",
     "exception": false,
     "start_time": "2024-03-02T13:32:41.155297",
     "status": "completed"
    },
    "tags": []
   },
   "outputs": [
    {
     "data": {
      "text/html": [
       "<div>\n",
       "<style scoped>\n",
       "    .dataframe tbody tr th:only-of-type {\n",
       "        vertical-align: middle;\n",
       "    }\n",
       "\n",
       "    .dataframe tbody tr th {\n",
       "        vertical-align: top;\n",
       "    }\n",
       "\n",
       "    .dataframe thead th {\n",
       "        text-align: right;\n",
       "    }\n",
       "</style>\n",
       "<table border=\"1\" class=\"dataframe\">\n",
       "  <thead>\n",
       "    <tr style=\"text-align: right;\">\n",
       "      <th></th>\n",
       "      <th>Title</th>\n",
       "      <th>Company</th>\n",
       "      <th>Location</th>\n",
       "      <th>Job Description</th>\n",
       "      <th>Salary</th>\n",
       "      <th>Identified_Skills</th>\n",
       "    </tr>\n",
       "  </thead>\n",
       "  <tbody>\n",
       "    <tr>\n",
       "      <th>0</th>\n",
       "      <td>Staff Applied Scientist, Marketplace</td>\n",
       "      <td>ThredUp Inc.</td>\n",
       "      <td>CA</td>\n",
       "      <td>about thredup thredup is transforming resale w...</td>\n",
       "      <td>190000.0</td>\n",
       "      <td>['python', 'machine learning', 'aws', 'sql']</td>\n",
       "    </tr>\n",
       "    <tr>\n",
       "      <th>1</th>\n",
       "      <td>Prompt Engineer for Generative AI (chatbot and...</td>\n",
       "      <td>Vicarious Talent Agency</td>\n",
       "      <td>WA</td>\n",
       "      <td>we are vicarious a talent agency that represen...</td>\n",
       "      <td>70000.0</td>\n",
       "      <td>['python', 'machine learning', 'deep learning'...</td>\n",
       "    </tr>\n",
       "    <tr>\n",
       "      <th>2</th>\n",
       "      <td>Data Systems Analyst/Architect</td>\n",
       "      <td>General Dynamics Information Technology</td>\n",
       "      <td>Remote</td>\n",
       "      <td>clearance level none category data science loc...</td>\n",
       "      <td>104000.0</td>\n",
       "      <td>['machine learning', 'aws', 'azure', 'nosql', ...</td>\n",
       "    </tr>\n",
       "    <tr>\n",
       "      <th>3</th>\n",
       "      <td>AIOps Principle Data Scientist</td>\n",
       "      <td>CVS Health</td>\n",
       "      <td>CT</td>\n",
       "      <td>bring your heart to cvs health every one of us...</td>\n",
       "      <td>140000.0</td>\n",
       "      <td>['python', 'machine learning', 'aws', 'gcp']</td>\n",
       "    </tr>\n",
       "    <tr>\n",
       "      <th>4</th>\n",
       "      <td>Sr. Data Scientist</td>\n",
       "      <td>Altak Group</td>\n",
       "      <td>Remote</td>\n",
       "      <td>job summary we are seeking an experienced data...</td>\n",
       "      <td>136000.0</td>\n",
       "      <td>['python', 'machine learning', 'tableau', 'aws...</td>\n",
       "    </tr>\n",
       "  </tbody>\n",
       "</table>\n",
       "</div>"
      ],
      "text/plain": [
       "                                               Title  \\\n",
       "0               Staff Applied Scientist, Marketplace   \n",
       "1  Prompt Engineer for Generative AI (chatbot and...   \n",
       "2                     Data Systems Analyst/Architect   \n",
       "3                     AIOps Principle Data Scientist   \n",
       "4                                 Sr. Data Scientist   \n",
       "\n",
       "                                   Company Location  \\\n",
       "0                             ThredUp Inc.       CA   \n",
       "1                  Vicarious Talent Agency       WA   \n",
       "2  General Dynamics Information Technology   Remote   \n",
       "3                               CVS Health       CT   \n",
       "4                              Altak Group   Remote   \n",
       "\n",
       "                                     Job Description    Salary  \\\n",
       "0  about thredup thredup is transforming resale w...  190000.0   \n",
       "1  we are vicarious a talent agency that represen...   70000.0   \n",
       "2  clearance level none category data science loc...  104000.0   \n",
       "3  bring your heart to cvs health every one of us...  140000.0   \n",
       "4  job summary we are seeking an experienced data...  136000.0   \n",
       "\n",
       "                                   Identified_Skills  \n",
       "0       ['python', 'machine learning', 'aws', 'sql']  \n",
       "1  ['python', 'machine learning', 'deep learning'...  \n",
       "2  ['machine learning', 'aws', 'azure', 'nosql', ...  \n",
       "3       ['python', 'machine learning', 'aws', 'gcp']  \n",
       "4  ['python', 'machine learning', 'tableau', 'aws...  "
      ]
     },
     "execution_count": 15,
     "metadata": {},
     "output_type": "execute_result"
    }
   ],
   "source": [
    "df['Job Description']=df['Job Description'].apply(lambda x:preprocessing_text(x))\n",
    "df.head()"
   ]
  },
  {
   "cell_type": "code",
   "execution_count": 16,
   "id": "18c26a98",
   "metadata": {
    "execution": {
     "iopub.execute_input": "2024-03-02T13:32:41.759244Z",
     "iopub.status.busy": "2024-03-02T13:32:41.758870Z",
     "iopub.status.idle": "2024-03-02T13:32:44.524111Z",
     "shell.execute_reply": "2024-03-02T13:32:44.522923Z"
    },
    "papermill": {
     "duration": 2.783889,
     "end_time": "2024-03-02T13:32:44.526787",
     "exception": false,
     "start_time": "2024-03-02T13:32:41.742898",
     "status": "completed"
    },
    "tags": []
   },
   "outputs": [
    {
     "data": {
      "text/html": [
       "<div>\n",
       "<style scoped>\n",
       "    .dataframe tbody tr th:only-of-type {\n",
       "        vertical-align: middle;\n",
       "    }\n",
       "\n",
       "    .dataframe tbody tr th {\n",
       "        vertical-align: top;\n",
       "    }\n",
       "\n",
       "    .dataframe thead th {\n",
       "        text-align: right;\n",
       "    }\n",
       "</style>\n",
       "<table border=\"1\" class=\"dataframe\">\n",
       "  <thead>\n",
       "    <tr style=\"text-align: right;\">\n",
       "      <th></th>\n",
       "      <th>Title</th>\n",
       "      <th>Company</th>\n",
       "      <th>Location</th>\n",
       "      <th>Job Description</th>\n",
       "      <th>Salary</th>\n",
       "      <th>Identified_Skills</th>\n",
       "      <th>Tokens</th>\n",
       "    </tr>\n",
       "  </thead>\n",
       "  <tbody>\n",
       "    <tr>\n",
       "      <th>0</th>\n",
       "      <td>Staff Applied Scientist, Marketplace</td>\n",
       "      <td>ThredUp Inc.</td>\n",
       "      <td>CA</td>\n",
       "      <td>about thredup thredup is transforming resale w...</td>\n",
       "      <td>190000.0</td>\n",
       "      <td>['python', 'machine learning', 'aws', 'sql']</td>\n",
       "      <td>[about, thredup, thredup, is, transforming, re...</td>\n",
       "    </tr>\n",
       "    <tr>\n",
       "      <th>1</th>\n",
       "      <td>Prompt Engineer for Generative AI (chatbot and...</td>\n",
       "      <td>Vicarious Talent Agency</td>\n",
       "      <td>WA</td>\n",
       "      <td>we are vicarious a talent agency that represen...</td>\n",
       "      <td>70000.0</td>\n",
       "      <td>['python', 'machine learning', 'deep learning'...</td>\n",
       "      <td>[we, are, vicarious, a, talent, agency, that, ...</td>\n",
       "    </tr>\n",
       "    <tr>\n",
       "      <th>2</th>\n",
       "      <td>Data Systems Analyst/Architect</td>\n",
       "      <td>General Dynamics Information Technology</td>\n",
       "      <td>Remote</td>\n",
       "      <td>clearance level none category data science loc...</td>\n",
       "      <td>104000.0</td>\n",
       "      <td>['machine learning', 'aws', 'azure', 'nosql', ...</td>\n",
       "      <td>[clearance, level, none, category, data, scien...</td>\n",
       "    </tr>\n",
       "    <tr>\n",
       "      <th>3</th>\n",
       "      <td>AIOps Principle Data Scientist</td>\n",
       "      <td>CVS Health</td>\n",
       "      <td>CT</td>\n",
       "      <td>bring your heart to cvs health every one of us...</td>\n",
       "      <td>140000.0</td>\n",
       "      <td>['python', 'machine learning', 'aws', 'gcp']</td>\n",
       "      <td>[bring, your, heart, to, cvs, health, every, o...</td>\n",
       "    </tr>\n",
       "    <tr>\n",
       "      <th>4</th>\n",
       "      <td>Sr. Data Scientist</td>\n",
       "      <td>Altak Group</td>\n",
       "      <td>Remote</td>\n",
       "      <td>job summary we are seeking an experienced data...</td>\n",
       "      <td>136000.0</td>\n",
       "      <td>['python', 'machine learning', 'tableau', 'aws...</td>\n",
       "      <td>[job, summary, we, are, seeking, an, experienc...</td>\n",
       "    </tr>\n",
       "  </tbody>\n",
       "</table>\n",
       "</div>"
      ],
      "text/plain": [
       "                                               Title  \\\n",
       "0               Staff Applied Scientist, Marketplace   \n",
       "1  Prompt Engineer for Generative AI (chatbot and...   \n",
       "2                     Data Systems Analyst/Architect   \n",
       "3                     AIOps Principle Data Scientist   \n",
       "4                                 Sr. Data Scientist   \n",
       "\n",
       "                                   Company Location  \\\n",
       "0                             ThredUp Inc.       CA   \n",
       "1                  Vicarious Talent Agency       WA   \n",
       "2  General Dynamics Information Technology   Remote   \n",
       "3                               CVS Health       CT   \n",
       "4                              Altak Group   Remote   \n",
       "\n",
       "                                     Job Description    Salary  \\\n",
       "0  about thredup thredup is transforming resale w...  190000.0   \n",
       "1  we are vicarious a talent agency that represen...   70000.0   \n",
       "2  clearance level none category data science loc...  104000.0   \n",
       "3  bring your heart to cvs health every one of us...  140000.0   \n",
       "4  job summary we are seeking an experienced data...  136000.0   \n",
       "\n",
       "                                   Identified_Skills  \\\n",
       "0       ['python', 'machine learning', 'aws', 'sql']   \n",
       "1  ['python', 'machine learning', 'deep learning'...   \n",
       "2  ['machine learning', 'aws', 'azure', 'nosql', ...   \n",
       "3       ['python', 'machine learning', 'aws', 'gcp']   \n",
       "4  ['python', 'machine learning', 'tableau', 'aws...   \n",
       "\n",
       "                                              Tokens  \n",
       "0  [about, thredup, thredup, is, transforming, re...  \n",
       "1  [we, are, vicarious, a, talent, agency, that, ...  \n",
       "2  [clearance, level, none, category, data, scien...  \n",
       "3  [bring, your, heart, to, cvs, health, every, o...  \n",
       "4  [job, summary, we, are, seeking, an, experienc...  "
      ]
     },
     "execution_count": 16,
     "metadata": {},
     "output_type": "execute_result"
    }
   ],
   "source": [
    "df['Tokens']=df['Job Description'].apply(lambda x:word_tokenize(x))\n",
    "df.head()"
   ]
  },
  {
   "cell_type": "code",
   "execution_count": 17,
   "id": "25160b88",
   "metadata": {
    "execution": {
     "iopub.execute_input": "2024-03-02T13:32:44.556135Z",
     "iopub.status.busy": "2024-03-02T13:32:44.555706Z",
     "iopub.status.idle": "2024-03-02T13:32:44.563379Z",
     "shell.execute_reply": "2024-03-02T13:32:44.562214Z"
    },
    "papermill": {
     "duration": 0.025065,
     "end_time": "2024-03-02T13:32:44.565760",
     "exception": false,
     "start_time": "2024-03-02T13:32:44.540695",
     "status": "completed"
    },
    "tags": []
   },
   "outputs": [],
   "source": [
    "english_stopwords = stopwords.words('english')\n"
   ]
  },
  {
   "cell_type": "code",
   "execution_count": 18,
   "id": "98f28b41",
   "metadata": {
    "execution": {
     "iopub.execute_input": "2024-03-02T13:32:44.594300Z",
     "iopub.status.busy": "2024-03-02T13:32:44.593840Z",
     "iopub.status.idle": "2024-03-02T13:32:45.821581Z",
     "shell.execute_reply": "2024-03-02T13:32:45.820309Z"
    },
    "papermill": {
     "duration": 1.24546,
     "end_time": "2024-03-02T13:32:45.824430",
     "exception": false,
     "start_time": "2024-03-02T13:32:44.578970",
     "status": "completed"
    },
    "tags": []
   },
   "outputs": [],
   "source": [
    "for i in df['Tokens']:\n",
    "    stop=[]\n",
    "    for j in i:\n",
    "        if j not in english_stopwords:\n",
    "            stop.append(j)\n",
    "            "
   ]
  },
  {
   "cell_type": "code",
   "execution_count": 19,
   "id": "e0521016",
   "metadata": {
    "execution": {
     "iopub.execute_input": "2024-03-02T13:32:45.853035Z",
     "iopub.status.busy": "2024-03-02T13:32:45.851773Z",
     "iopub.status.idle": "2024-03-02T13:32:47.058006Z",
     "shell.execute_reply": "2024-03-02T13:32:47.056570Z"
    },
    "papermill": {
     "duration": 1.223279,
     "end_time": "2024-03-02T13:32:47.061084",
     "exception": false,
     "start_time": "2024-03-02T13:32:45.837805",
     "status": "completed"
    },
    "tags": []
   },
   "outputs": [
    {
     "data": {
      "text/html": [
       "<div>\n",
       "<style scoped>\n",
       "    .dataframe tbody tr th:only-of-type {\n",
       "        vertical-align: middle;\n",
       "    }\n",
       "\n",
       "    .dataframe tbody tr th {\n",
       "        vertical-align: top;\n",
       "    }\n",
       "\n",
       "    .dataframe thead th {\n",
       "        text-align: right;\n",
       "    }\n",
       "</style>\n",
       "<table border=\"1\" class=\"dataframe\">\n",
       "  <thead>\n",
       "    <tr style=\"text-align: right;\">\n",
       "      <th></th>\n",
       "      <th>Title</th>\n",
       "      <th>Company</th>\n",
       "      <th>Location</th>\n",
       "      <th>Job Description</th>\n",
       "      <th>Salary</th>\n",
       "      <th>Identified_Skills</th>\n",
       "      <th>Tokens</th>\n",
       "      <th>new</th>\n",
       "    </tr>\n",
       "  </thead>\n",
       "  <tbody>\n",
       "    <tr>\n",
       "      <th>0</th>\n",
       "      <td>Staff Applied Scientist, Marketplace</td>\n",
       "      <td>ThredUp Inc.</td>\n",
       "      <td>CA</td>\n",
       "      <td>about thredup thredup is transforming resale w...</td>\n",
       "      <td>190000.0</td>\n",
       "      <td>['python', 'machine learning', 'aws', 'sql']</td>\n",
       "      <td>[about, thredup, thredup, is, transforming, re...</td>\n",
       "      <td>[thredup, thredup, transforming, resale, techn...</td>\n",
       "    </tr>\n",
       "    <tr>\n",
       "      <th>1</th>\n",
       "      <td>Prompt Engineer for Generative AI (chatbot and...</td>\n",
       "      <td>Vicarious Talent Agency</td>\n",
       "      <td>WA</td>\n",
       "      <td>we are vicarious a talent agency that represen...</td>\n",
       "      <td>70000.0</td>\n",
       "      <td>['python', 'machine learning', 'deep learning'...</td>\n",
       "      <td>[we, are, vicarious, a, talent, agency, that, ...</td>\n",
       "      <td>[vicarious, talent, agency, represents, establ...</td>\n",
       "    </tr>\n",
       "    <tr>\n",
       "      <th>2</th>\n",
       "      <td>Data Systems Analyst/Architect</td>\n",
       "      <td>General Dynamics Information Technology</td>\n",
       "      <td>Remote</td>\n",
       "      <td>clearance level none category data science loc...</td>\n",
       "      <td>104000.0</td>\n",
       "      <td>['machine learning', 'aws', 'azure', 'nosql', ...</td>\n",
       "      <td>[clearance, level, none, category, data, scien...</td>\n",
       "      <td>[clearance, level, none, category, data, scien...</td>\n",
       "    </tr>\n",
       "    <tr>\n",
       "      <th>3</th>\n",
       "      <td>AIOps Principle Data Scientist</td>\n",
       "      <td>CVS Health</td>\n",
       "      <td>CT</td>\n",
       "      <td>bring your heart to cvs health every one of us...</td>\n",
       "      <td>140000.0</td>\n",
       "      <td>['python', 'machine learning', 'aws', 'gcp']</td>\n",
       "      <td>[bring, your, heart, to, cvs, health, every, o...</td>\n",
       "      <td>[bring, heart, cvs, health, every, one, us, cv...</td>\n",
       "    </tr>\n",
       "    <tr>\n",
       "      <th>4</th>\n",
       "      <td>Sr. Data Scientist</td>\n",
       "      <td>Altak Group</td>\n",
       "      <td>Remote</td>\n",
       "      <td>job summary we are seeking an experienced data...</td>\n",
       "      <td>136000.0</td>\n",
       "      <td>['python', 'machine learning', 'tableau', 'aws...</td>\n",
       "      <td>[job, summary, we, are, seeking, an, experienc...</td>\n",
       "      <td>[job, summary, seeking, experienced, data, sci...</td>\n",
       "    </tr>\n",
       "  </tbody>\n",
       "</table>\n",
       "</div>"
      ],
      "text/plain": [
       "                                               Title  \\\n",
       "0               Staff Applied Scientist, Marketplace   \n",
       "1  Prompt Engineer for Generative AI (chatbot and...   \n",
       "2                     Data Systems Analyst/Architect   \n",
       "3                     AIOps Principle Data Scientist   \n",
       "4                                 Sr. Data Scientist   \n",
       "\n",
       "                                   Company Location  \\\n",
       "0                             ThredUp Inc.       CA   \n",
       "1                  Vicarious Talent Agency       WA   \n",
       "2  General Dynamics Information Technology   Remote   \n",
       "3                               CVS Health       CT   \n",
       "4                              Altak Group   Remote   \n",
       "\n",
       "                                     Job Description    Salary  \\\n",
       "0  about thredup thredup is transforming resale w...  190000.0   \n",
       "1  we are vicarious a talent agency that represen...   70000.0   \n",
       "2  clearance level none category data science loc...  104000.0   \n",
       "3  bring your heart to cvs health every one of us...  140000.0   \n",
       "4  job summary we are seeking an experienced data...  136000.0   \n",
       "\n",
       "                                   Identified_Skills  \\\n",
       "0       ['python', 'machine learning', 'aws', 'sql']   \n",
       "1  ['python', 'machine learning', 'deep learning'...   \n",
       "2  ['machine learning', 'aws', 'azure', 'nosql', ...   \n",
       "3       ['python', 'machine learning', 'aws', 'gcp']   \n",
       "4  ['python', 'machine learning', 'tableau', 'aws...   \n",
       "\n",
       "                                              Tokens  \\\n",
       "0  [about, thredup, thredup, is, transforming, re...   \n",
       "1  [we, are, vicarious, a, talent, agency, that, ...   \n",
       "2  [clearance, level, none, category, data, scien...   \n",
       "3  [bring, your, heart, to, cvs, health, every, o...   \n",
       "4  [job, summary, we, are, seeking, an, experienc...   \n",
       "\n",
       "                                                 new  \n",
       "0  [thredup, thredup, transforming, resale, techn...  \n",
       "1  [vicarious, talent, agency, represents, establ...  \n",
       "2  [clearance, level, none, category, data, scien...  \n",
       "3  [bring, heart, cvs, health, every, one, us, cv...  \n",
       "4  [job, summary, seeking, experienced, data, sci...  "
      ]
     },
     "execution_count": 19,
     "metadata": {},
     "output_type": "execute_result"
    }
   ],
   "source": [
    "df['new']=df['Tokens'].apply(lambda x:[i for i in x if i not in english_stopwords])\n",
    "df.head()"
   ]
  },
  {
   "cell_type": "code",
   "execution_count": 20,
   "id": "a1bde7fc",
   "metadata": {
    "execution": {
     "iopub.execute_input": "2024-03-02T13:32:47.089812Z",
     "iopub.status.busy": "2024-03-02T13:32:47.089373Z",
     "iopub.status.idle": "2024-03-02T13:32:47.129903Z",
     "shell.execute_reply": "2024-03-02T13:32:47.128464Z"
    },
    "papermill": {
     "duration": 0.05788,
     "end_time": "2024-03-02T13:32:47.132384",
     "exception": false,
     "start_time": "2024-03-02T13:32:47.074504",
     "status": "completed"
    },
    "tags": []
   },
   "outputs": [
    {
     "data": {
      "text/html": [
       "<div>\n",
       "<style scoped>\n",
       "    .dataframe tbody tr th:only-of-type {\n",
       "        vertical-align: middle;\n",
       "    }\n",
       "\n",
       "    .dataframe tbody tr th {\n",
       "        vertical-align: top;\n",
       "    }\n",
       "\n",
       "    .dataframe thead th {\n",
       "        text-align: right;\n",
       "    }\n",
       "</style>\n",
       "<table border=\"1\" class=\"dataframe\">\n",
       "  <thead>\n",
       "    <tr style=\"text-align: right;\">\n",
       "      <th></th>\n",
       "      <th>Title</th>\n",
       "      <th>Company</th>\n",
       "      <th>Location</th>\n",
       "      <th>Job Description</th>\n",
       "      <th>Salary</th>\n",
       "      <th>Identified_Skills</th>\n",
       "      <th>Tokens</th>\n",
       "      <th>new</th>\n",
       "      <th>text</th>\n",
       "    </tr>\n",
       "  </thead>\n",
       "  <tbody>\n",
       "    <tr>\n",
       "      <th>0</th>\n",
       "      <td>Staff Applied Scientist, Marketplace</td>\n",
       "      <td>ThredUp Inc.</td>\n",
       "      <td>CA</td>\n",
       "      <td>about thredup thredup is transforming resale w...</td>\n",
       "      <td>190000.0</td>\n",
       "      <td>['python', 'machine learning', 'aws', 'sql']</td>\n",
       "      <td>[about, thredup, thredup, is, transforming, re...</td>\n",
       "      <td>[thredup, thredup, transforming, resale, techn...</td>\n",
       "      <td>thredup thredup transforming resale technology...</td>\n",
       "    </tr>\n",
       "    <tr>\n",
       "      <th>1</th>\n",
       "      <td>Prompt Engineer for Generative AI (chatbot and...</td>\n",
       "      <td>Vicarious Talent Agency</td>\n",
       "      <td>WA</td>\n",
       "      <td>we are vicarious a talent agency that represen...</td>\n",
       "      <td>70000.0</td>\n",
       "      <td>['python', 'machine learning', 'deep learning'...</td>\n",
       "      <td>[we, are, vicarious, a, talent, agency, that, ...</td>\n",
       "      <td>[vicarious, talent, agency, represents, establ...</td>\n",
       "      <td>vicarious talent agency represents established...</td>\n",
       "    </tr>\n",
       "    <tr>\n",
       "      <th>2</th>\n",
       "      <td>Data Systems Analyst/Architect</td>\n",
       "      <td>General Dynamics Information Technology</td>\n",
       "      <td>Remote</td>\n",
       "      <td>clearance level none category data science loc...</td>\n",
       "      <td>104000.0</td>\n",
       "      <td>['machine learning', 'aws', 'azure', 'nosql', ...</td>\n",
       "      <td>[clearance, level, none, category, data, scien...</td>\n",
       "      <td>[clearance, level, none, category, data, scien...</td>\n",
       "      <td>clearance level none category data science loc...</td>\n",
       "    </tr>\n",
       "    <tr>\n",
       "      <th>3</th>\n",
       "      <td>AIOps Principle Data Scientist</td>\n",
       "      <td>CVS Health</td>\n",
       "      <td>CT</td>\n",
       "      <td>bring your heart to cvs health every one of us...</td>\n",
       "      <td>140000.0</td>\n",
       "      <td>['python', 'machine learning', 'aws', 'gcp']</td>\n",
       "      <td>[bring, your, heart, to, cvs, health, every, o...</td>\n",
       "      <td>[bring, heart, cvs, health, every, one, us, cv...</td>\n",
       "      <td>bring heart cvs health every one us cvs health...</td>\n",
       "    </tr>\n",
       "    <tr>\n",
       "      <th>4</th>\n",
       "      <td>Sr. Data Scientist</td>\n",
       "      <td>Altak Group</td>\n",
       "      <td>Remote</td>\n",
       "      <td>job summary we are seeking an experienced data...</td>\n",
       "      <td>136000.0</td>\n",
       "      <td>['python', 'machine learning', 'tableau', 'aws...</td>\n",
       "      <td>[job, summary, we, are, seeking, an, experienc...</td>\n",
       "      <td>[job, summary, seeking, experienced, data, sci...</td>\n",
       "      <td>job summary seeking experienced data scientist...</td>\n",
       "    </tr>\n",
       "  </tbody>\n",
       "</table>\n",
       "</div>"
      ],
      "text/plain": [
       "                                               Title  \\\n",
       "0               Staff Applied Scientist, Marketplace   \n",
       "1  Prompt Engineer for Generative AI (chatbot and...   \n",
       "2                     Data Systems Analyst/Architect   \n",
       "3                     AIOps Principle Data Scientist   \n",
       "4                                 Sr. Data Scientist   \n",
       "\n",
       "                                   Company Location  \\\n",
       "0                             ThredUp Inc.       CA   \n",
       "1                  Vicarious Talent Agency       WA   \n",
       "2  General Dynamics Information Technology   Remote   \n",
       "3                               CVS Health       CT   \n",
       "4                              Altak Group   Remote   \n",
       "\n",
       "                                     Job Description    Salary  \\\n",
       "0  about thredup thredup is transforming resale w...  190000.0   \n",
       "1  we are vicarious a talent agency that represen...   70000.0   \n",
       "2  clearance level none category data science loc...  104000.0   \n",
       "3  bring your heart to cvs health every one of us...  140000.0   \n",
       "4  job summary we are seeking an experienced data...  136000.0   \n",
       "\n",
       "                                   Identified_Skills  \\\n",
       "0       ['python', 'machine learning', 'aws', 'sql']   \n",
       "1  ['python', 'machine learning', 'deep learning'...   \n",
       "2  ['machine learning', 'aws', 'azure', 'nosql', ...   \n",
       "3       ['python', 'machine learning', 'aws', 'gcp']   \n",
       "4  ['python', 'machine learning', 'tableau', 'aws...   \n",
       "\n",
       "                                              Tokens  \\\n",
       "0  [about, thredup, thredup, is, transforming, re...   \n",
       "1  [we, are, vicarious, a, talent, agency, that, ...   \n",
       "2  [clearance, level, none, category, data, scien...   \n",
       "3  [bring, your, heart, to, cvs, health, every, o...   \n",
       "4  [job, summary, we, are, seeking, an, experienc...   \n",
       "\n",
       "                                                 new  \\\n",
       "0  [thredup, thredup, transforming, resale, techn...   \n",
       "1  [vicarious, talent, agency, represents, establ...   \n",
       "2  [clearance, level, none, category, data, scien...   \n",
       "3  [bring, heart, cvs, health, every, one, us, cv...   \n",
       "4  [job, summary, seeking, experienced, data, sci...   \n",
       "\n",
       "                                                text  \n",
       "0  thredup thredup transforming resale technology...  \n",
       "1  vicarious talent agency represents established...  \n",
       "2  clearance level none category data science loc...  \n",
       "3  bring heart cvs health every one us cvs health...  \n",
       "4  job summary seeking experienced data scientist...  "
      ]
     },
     "execution_count": 20,
     "metadata": {},
     "output_type": "execute_result"
    }
   ],
   "source": [
    "df['text']=df['new'].apply(lambda x:' '.join(x))\n",
    "df.head()\n",
    "    "
   ]
  },
  {
   "cell_type": "code",
   "execution_count": 21,
   "id": "782bbf61",
   "metadata": {
    "execution": {
     "iopub.execute_input": "2024-03-02T13:32:47.247445Z",
     "iopub.status.busy": "2024-03-02T13:32:47.247056Z",
     "iopub.status.idle": "2024-03-02T13:32:47.698246Z",
     "shell.execute_reply": "2024-03-02T13:32:47.696782Z"
    },
    "papermill": {
     "duration": 0.469265,
     "end_time": "2024-03-02T13:32:47.700872",
     "exception": false,
     "start_time": "2024-03-02T13:32:47.231607",
     "status": "completed"
    },
    "tags": []
   },
   "outputs": [
    {
     "data": {
      "image/png": "[encoded data removed]",
      "text/plain": [
       "<Figure size 1000x500 with 1 Axes>"
      ]
     },
     "metadata": {},
     "output_type": "display_data"
    }
   ],
   "source": [
    "sns.countplot(y=df['Location'])\n",
    "plt.show()"
   ]
  },
  {
   "cell_type": "code",
   "execution_count": 22,
   "id": "f11372c1",
   "metadata": {
    "execution": {
     "iopub.execute_input": "2024-03-02T13:32:47.731055Z",
     "iopub.status.busy": "2024-03-02T13:32:47.730677Z",
     "iopub.status.idle": "2024-03-02T13:32:48.054864Z",
     "shell.execute_reply": "2024-03-02T13:32:48.053550Z"
    },
    "papermill": {
     "duration": 0.342658,
     "end_time": "2024-03-02T13:32:48.057760",
     "exception": false,
     "start_time": "2024-03-02T13:32:47.715102",
     "status": "completed"
    },
    "tags": []
   },
   "outputs": [
    {
     "data": {
      "image/png": "[encoded data removed]",
      "text/plain": [
       "<Figure size 1000x500 with 1 Axes>"
      ]
     },
     "metadata": {},
     "output_type": "display_data"
    }
   ],
   "source": [
    "sns.kdeplot(df['Salary'])\n",
    "plt.grid()\n",
    "plt.show()"
   ]
  },
  {
   "cell_type": "code",
   "execution_count": 23,
   "id": "0a436cef",
   "metadata": {
    "execution": {
     "iopub.execute_input": "2024-03-02T13:32:48.090204Z",
     "iopub.status.busy": "2024-03-02T13:32:48.089832Z",
     "iopub.status.idle": "2024-03-02T13:32:48.113828Z",
     "shell.execute_reply": "2024-03-02T13:32:48.113059Z"
    },
    "papermill": {
     "duration": 0.043299,
     "end_time": "2024-03-02T13:32:48.116299",
     "exception": false,
     "start_time": "2024-03-02T13:32:48.073000",
     "status": "completed"
    },
    "tags": []
   },
   "outputs": [
    {
     "data": {
      "text/html": [
       "<div>\n",
       "<style scoped>\n",
       "    .dataframe tbody tr th:only-of-type {\n",
       "        vertical-align: middle;\n",
       "    }\n",
       "\n",
       "    .dataframe tbody tr th {\n",
       "        vertical-align: top;\n",
       "    }\n",
       "\n",
       "    .dataframe thead th {\n",
       "        text-align: right;\n",
       "    }\n",
       "</style>\n",
       "<table border=\"1\" class=\"dataframe\">\n",
       "  <thead>\n",
       "    <tr style=\"text-align: right;\">\n",
       "      <th></th>\n",
       "      <th>Title</th>\n",
       "      <th>Company</th>\n",
       "      <th>Location</th>\n",
       "      <th>Job Description</th>\n",
       "      <th>Salary</th>\n",
       "      <th>Identified_Skills</th>\n",
       "      <th>Tokens</th>\n",
       "      <th>new</th>\n",
       "      <th>text</th>\n",
       "      <th>skills</th>\n",
       "    </tr>\n",
       "  </thead>\n",
       "  <tbody>\n",
       "    <tr>\n",
       "      <th>0</th>\n",
       "      <td>Staff Applied Scientist, Marketplace</td>\n",
       "      <td>ThredUp Inc.</td>\n",
       "      <td>CA</td>\n",
       "      <td>about thredup thredup is transforming resale w...</td>\n",
       "      <td>190000.0</td>\n",
       "      <td>['python', 'machine learning', 'aws', 'sql']</td>\n",
       "      <td>[about, thredup, thredup, is, transforming, re...</td>\n",
       "      <td>[thredup, thredup, transforming, resale, techn...</td>\n",
       "      <td>thredup thredup transforming resale technology...</td>\n",
       "      <td>['python', 'machine learning', 'aws', 'sql']</td>\n",
       "    </tr>\n",
       "    <tr>\n",
       "      <th>1</th>\n",
       "      <td>Prompt Engineer for Generative AI (chatbot and...</td>\n",
       "      <td>Vicarious Talent Agency</td>\n",
       "      <td>WA</td>\n",
       "      <td>we are vicarious a talent agency that represen...</td>\n",
       "      <td>70000.0</td>\n",
       "      <td>['python', 'machine learning', 'deep learning'...</td>\n",
       "      <td>[we, are, vicarious, a, talent, agency, that, ...</td>\n",
       "      <td>[vicarious, talent, agency, represents, establ...</td>\n",
       "      <td>vicarious talent agency represents established...</td>\n",
       "      <td>['python', 'machine learning', 'deep learning'...</td>\n",
       "    </tr>\n",
       "    <tr>\n",
       "      <th>2</th>\n",
       "      <td>Data Systems Analyst/Architect</td>\n",
       "      <td>General Dynamics Information Technology</td>\n",
       "      <td>Remote</td>\n",
       "      <td>clearance level none category data science loc...</td>\n",
       "      <td>104000.0</td>\n",
       "      <td>['machine learning', 'aws', 'azure', 'nosql', ...</td>\n",
       "      <td>[clearance, level, none, category, data, scien...</td>\n",
       "      <td>[clearance, level, none, category, data, scien...</td>\n",
       "      <td>clearance level none category data science loc...</td>\n",
       "      <td>['machine learning', 'aws', 'azure', 'nosql', ...</td>\n",
       "    </tr>\n",
       "    <tr>\n",
       "      <th>3</th>\n",
       "      <td>AIOps Principle Data Scientist</td>\n",
       "      <td>CVS Health</td>\n",
       "      <td>CT</td>\n",
       "      <td>bring your heart to cvs health every one of us...</td>\n",
       "      <td>140000.0</td>\n",
       "      <td>['python', 'machine learning', 'aws', 'gcp']</td>\n",
       "      <td>[bring, your, heart, to, cvs, health, every, o...</td>\n",
       "      <td>[bring, heart, cvs, health, every, one, us, cv...</td>\n",
       "      <td>bring heart cvs health every one us cvs health...</td>\n",
       "      <td>['python', 'machine learning', 'aws', 'gcp']</td>\n",
       "    </tr>\n",
       "    <tr>\n",
       "      <th>4</th>\n",
       "      <td>Sr. Data Scientist</td>\n",
       "      <td>Altak Group</td>\n",
       "      <td>Remote</td>\n",
       "      <td>job summary we are seeking an experienced data...</td>\n",
       "      <td>136000.0</td>\n",
       "      <td>['python', 'machine learning', 'tableau', 'aws...</td>\n",
       "      <td>[job, summary, we, are, seeking, an, experienc...</td>\n",
       "      <td>[job, summary, seeking, experienced, data, sci...</td>\n",
       "      <td>job summary seeking experienced data scientist...</td>\n",
       "      <td>['python', 'machine learning', 'tableau', 'aws...</td>\n",
       "    </tr>\n",
       "  </tbody>\n",
       "</table>\n",
       "</div>"
      ],
      "text/plain": [
       "                                               Title  \\\n",
       "0               Staff Applied Scientist, Marketplace   \n",
       "1  Prompt Engineer for Generative AI (chatbot and...   \n",
       "2                     Data Systems Analyst/Architect   \n",
       "3                     AIOps Principle Data Scientist   \n",
       "4                                 Sr. Data Scientist   \n",
       "\n",
       "                                   Company Location  \\\n",
       "0                             ThredUp Inc.       CA   \n",
       "1                  Vicarious Talent Agency       WA   \n",
       "2  General Dynamics Information Technology   Remote   \n",
       "3                               CVS Health       CT   \n",
       "4                              Altak Group   Remote   \n",
       "\n",
       "                                     Job Description    Salary  \\\n",
       "0  about thredup thredup is transforming resale w...  190000.0   \n",
       "1  we are vicarious a talent agency that represen...   70000.0   \n",
       "2  clearance level none category data science loc...  104000.0   \n",
       "3  bring your heart to cvs health every one of us...  140000.0   \n",
       "4  job summary we are seeking an experienced data...  136000.0   \n",
       "\n",
       "                                   Identified_Skills  \\\n",
       "0       ['python', 'machine learning', 'aws', 'sql']   \n",
       "1  ['python', 'machine learning', 'deep learning'...   \n",
       "2  ['machine learning', 'aws', 'azure', 'nosql', ...   \n",
       "3       ['python', 'machine learning', 'aws', 'gcp']   \n",
       "4  ['python', 'machine learning', 'tableau', 'aws...   \n",
       "\n",
       "                                              Tokens  \\\n",
       "0  [about, thredup, thredup, is, transforming, re...   \n",
       "1  [we, are, vicarious, a, talent, agency, that, ...   \n",
       "2  [clearance, level, none, category, data, scien...   \n",
       "3  [bring, your, heart, to, cvs, health, every, o...   \n",
       "4  [job, summary, we, are, seeking, an, experienc...   \n",
       "\n",
       "                                                 new  \\\n",
       "0  [thredup, thredup, transforming, resale, techn...   \n",
       "1  [vicarious, talent, agency, represents, establ...   \n",
       "2  [clearance, level, none, category, data, scien...   \n",
       "3  [bring, heart, cvs, health, every, one, us, cv...   \n",
       "4  [job, summary, seeking, experienced, data, sci...   \n",
       "\n",
       "                                                text  \\\n",
       "0  thredup thredup transforming resale technology...   \n",
       "1  vicarious talent agency represents established...   \n",
       "2  clearance level none category data science loc...   \n",
       "3  bring heart cvs health every one us cvs health...   \n",
       "4  job summary seeking experienced data scientist...   \n",
       "\n",
       "                                              skills  \n",
       "0       ['python', 'machine learning', 'aws', 'sql']  \n",
       "1  ['python', 'machine learning', 'deep learning'...  \n",
       "2  ['machine learning', 'aws', 'azure', 'nosql', ...  \n",
       "3       ['python', 'machine learning', 'aws', 'gcp']  \n",
       "4  ['python', 'machine learning', 'tableau', 'aws...  "
      ]
     },
     "execution_count": 23,
     "metadata": {},
     "output_type": "execute_result"
    }
   ],
   "source": [
    "df['skills']=df['Identified_Skills'].apply(lambda x:[x][0])\n",
    "df.head()"
   ]
  },
  {
   "cell_type": "code",
   "execution_count": null,
   "id": "58de544a",
   "metadata": {
    "papermill": {
     "duration": 0.016004,
     "end_time": "2024-03-02T13:32:48.148140",
     "exception": false,
     "start_time": "2024-03-02T13:32:48.132136",
     "status": "completed"
    },
    "tags": []
   },
   "outputs": [],
   "source": []
  },
  {
   "cell_type": "code",
   "execution_count": 24,
   "id": "a16fcc33",
   "metadata": {
    "execution": {
     "iopub.execute_input": "2024-03-02T13:32:48.181498Z",
     "iopub.status.busy": "2024-03-02T13:32:48.180254Z",
     "iopub.status.idle": "2024-03-02T13:32:48.638156Z",
     "shell.execute_reply": "2024-03-02T13:32:48.636961Z"
    },
    "papermill": {
     "duration": 0.477185,
     "end_time": "2024-03-02T13:32:48.640994",
     "exception": false,
     "start_time": "2024-03-02T13:32:48.163809",
     "status": "completed"
    },
    "tags": []
   },
   "outputs": [],
   "source": [
    "tf=TfidfVectorizer()\n",
    "vector=tf.fit_transform(df['text']).toarray()\n"
   ]
  },
  {
   "cell_type": "code",
   "execution_count": 25,
   "id": "073cdb20",
   "metadata": {
    "execution": {
     "iopub.execute_input": "2024-03-02T13:32:48.672560Z",
     "iopub.status.busy": "2024-03-02T13:32:48.672058Z",
     "iopub.status.idle": "2024-03-02T13:32:48.689191Z",
     "shell.execute_reply": "2024-03-02T13:32:48.687613Z"
    },
    "papermill": {
     "duration": 0.035584,
     "end_time": "2024-03-02T13:32:48.691608",
     "exception": false,
     "start_time": "2024-03-02T13:32:48.656024",
     "status": "completed"
    },
    "tags": []
   },
   "outputs": [
    {
     "data": {
      "text/html": [
       "<div>\n",
       "<style scoped>\n",
       "    .dataframe tbody tr th:only-of-type {\n",
       "        vertical-align: middle;\n",
       "    }\n",
       "\n",
       "    .dataframe tbody tr th {\n",
       "        vertical-align: top;\n",
       "    }\n",
       "\n",
       "    .dataframe thead th {\n",
       "        text-align: right;\n",
       "    }\n",
       "</style>\n",
       "<table border=\"1\" class=\"dataframe\">\n",
       "  <thead>\n",
       "    <tr style=\"text-align: right;\">\n",
       "      <th></th>\n",
       "      <th>Salary</th>\n",
       "      <th>text</th>\n",
       "    </tr>\n",
       "  </thead>\n",
       "  <tbody>\n",
       "    <tr>\n",
       "      <th>0</th>\n",
       "      <td>190000.0</td>\n",
       "      <td>thredup thredup transforming resale technology...</td>\n",
       "    </tr>\n",
       "    <tr>\n",
       "      <th>1</th>\n",
       "      <td>70000.0</td>\n",
       "      <td>vicarious talent agency represents established...</td>\n",
       "    </tr>\n",
       "    <tr>\n",
       "      <th>2</th>\n",
       "      <td>104000.0</td>\n",
       "      <td>clearance level none category data science loc...</td>\n",
       "    </tr>\n",
       "    <tr>\n",
       "      <th>3</th>\n",
       "      <td>140000.0</td>\n",
       "      <td>bring heart cvs health every one us cvs health...</td>\n",
       "    </tr>\n",
       "    <tr>\n",
       "      <th>4</th>\n",
       "      <td>136000.0</td>\n",
       "      <td>job summary seeking experienced data scientist...</td>\n",
       "    </tr>\n",
       "    <tr>\n",
       "      <th>...</th>\n",
       "      <td>...</td>\n",
       "      <td>...</td>\n",
       "    </tr>\n",
       "    <tr>\n",
       "      <th>687</th>\n",
       "      <td>160000.0</td>\n",
       "      <td>recruiting scratch recruiting scratch premier ...</td>\n",
       "    </tr>\n",
       "    <tr>\n",
       "      <th>688</th>\n",
       "      <td>160000.0</td>\n",
       "      <td>recruiting scratch recruiting scratch premier ...</td>\n",
       "    </tr>\n",
       "    <tr>\n",
       "      <th>689</th>\n",
       "      <td>160000.0</td>\n",
       "      <td>recruiting scratch recruiting scratch premier ...</td>\n",
       "    </tr>\n",
       "    <tr>\n",
       "      <th>690</th>\n",
       "      <td>160000.0</td>\n",
       "      <td>recruiting scratch recruiting scratch premier ...</td>\n",
       "    </tr>\n",
       "    <tr>\n",
       "      <th>691</th>\n",
       "      <td>160000.0</td>\n",
       "      <td>recruiting scratch recruiting scratch premier ...</td>\n",
       "    </tr>\n",
       "  </tbody>\n",
       "</table>\n",
       "<p>692 rows × 2 columns</p>\n",
       "</div>"
      ],
      "text/plain": [
       "       Salary                                               text\n",
       "0    190000.0  thredup thredup transforming resale technology...\n",
       "1     70000.0  vicarious talent agency represents established...\n",
       "2    104000.0  clearance level none category data science loc...\n",
       "3    140000.0  bring heart cvs health every one us cvs health...\n",
       "4    136000.0  job summary seeking experienced data scientist...\n",
       "..        ...                                                ...\n",
       "687  160000.0  recruiting scratch recruiting scratch premier ...\n",
       "688  160000.0  recruiting scratch recruiting scratch premier ...\n",
       "689  160000.0  recruiting scratch recruiting scratch premier ...\n",
       "690  160000.0  recruiting scratch recruiting scratch premier ...\n",
       "691  160000.0  recruiting scratch recruiting scratch premier ...\n",
       "\n",
       "[692 rows x 2 columns]"
      ]
     },
     "execution_count": 25,
     "metadata": {},
     "output_type": "execute_result"
    }
   ],
   "source": [
    "data=df[['Salary','text']]\n",
    "data"
   ]
  },
  {
   "cell_type": "code",
   "execution_count": 26,
   "id": "57c909b2",
   "metadata": {
    "execution": {
     "iopub.execute_input": "2024-03-02T13:32:48.725423Z",
     "iopub.status.busy": "2024-03-02T13:32:48.724959Z",
     "iopub.status.idle": "2024-03-02T13:32:48.733457Z",
     "shell.execute_reply": "2024-03-02T13:32:48.732081Z"
    },
    "papermill": {
     "duration": 0.02839,
     "end_time": "2024-03-02T13:32:48.735767",
     "exception": false,
     "start_time": "2024-03-02T13:32:48.707377",
     "status": "completed"
    },
    "tags": []
   },
   "outputs": [
    {
     "data": {
      "text/plain": [
       "array([[0., 0., 0., ..., 0., 0., 0.],\n",
       "       [0., 0., 0., ..., 0., 0., 0.],\n",
       "       [0., 0., 0., ..., 0., 0., 0.],\n",
       "       ...,\n",
       "       [0., 0., 0., ..., 0., 0., 0.],\n",
       "       [0., 0., 0., ..., 0., 0., 0.],\n",
       "       [0., 0., 0., ..., 0., 0., 0.]])"
      ]
     },
     "execution_count": 26,
     "metadata": {},
     "output_type": "execute_result"
    }
   ],
   "source": [
    "vector"
   ]
  },
  {
   "cell_type": "code",
   "execution_count": 27,
   "id": "6f8c2431",
   "metadata": {
    "execution": {
     "iopub.execute_input": "2024-03-02T13:32:48.769288Z",
     "iopub.status.busy": "2024-03-02T13:32:48.768862Z",
     "iopub.status.idle": "2024-03-02T13:32:48.774473Z",
     "shell.execute_reply": "2024-03-02T13:32:48.773137Z"
    },
    "papermill": {
     "duration": 0.025475,
     "end_time": "2024-03-02T13:32:48.776943",
     "exception": false,
     "start_time": "2024-03-02T13:32:48.751468",
     "status": "completed"
    },
    "tags": []
   },
   "outputs": [],
   "source": [
    "from sklearn.model_selection import train_test_split"
   ]
  },
  {
   "cell_type": "code",
   "execution_count": 28,
   "id": "b401aaf5",
   "metadata": {
    "execution": {
     "iopub.execute_input": "2024-03-02T13:32:48.810773Z",
     "iopub.status.busy": "2024-03-02T13:32:48.810308Z",
     "iopub.status.idle": "2024-03-02T13:32:48.816025Z",
     "shell.execute_reply": "2024-03-02T13:32:48.814654Z"
    },
    "papermill": {
     "duration": 0.025228,
     "end_time": "2024-03-02T13:32:48.818080",
     "exception": false,
     "start_time": "2024-03-02T13:32:48.792852",
     "status": "completed"
    },
    "tags": []
   },
   "outputs": [],
   "source": [
    "y=data['Salary']\n",
    "x=vector"
   ]
  },
  {
   "cell_type": "code",
   "execution_count": 29,
   "id": "657affaf",
   "metadata": {
    "execution": {
     "iopub.execute_input": "2024-03-02T13:32:48.851737Z",
     "iopub.status.busy": "2024-03-02T13:32:48.851275Z",
     "iopub.status.idle": "2024-03-02T13:32:48.900115Z",
     "shell.execute_reply": "2024-03-02T13:32:48.898937Z"
    },
    "papermill": {
     "duration": 0.069176,
     "end_time": "2024-03-02T13:32:48.903037",
     "exception": false,
     "start_time": "2024-03-02T13:32:48.833861",
     "status": "completed"
    },
    "tags": []
   },
   "outputs": [],
   "source": [
    "xtrain,xtest,ytrain,ytest=train_test_split(x,y,test_size=0.20,random_state=42)"
   ]
  },
  {
   "cell_type": "code",
   "execution_count": 30,
   "id": "5caeaeda",
   "metadata": {
    "execution": {
     "iopub.execute_input": "2024-03-02T13:32:48.937612Z",
     "iopub.status.busy": "2024-03-02T13:32:48.936487Z",
     "iopub.status.idle": "2024-03-02T13:32:48.942158Z",
     "shell.execute_reply": "2024-03-02T13:32:48.940854Z"
    },
    "papermill": {
     "duration": 0.025931,
     "end_time": "2024-03-02T13:32:48.944317",
     "exception": false,
     "start_time": "2024-03-02T13:32:48.918386",
     "status": "completed"
    },
    "tags": []
   },
   "outputs": [],
   "source": [
    "from sklearn.linear_model import LinearRegression"
   ]
  },
  {
   "cell_type": "code",
   "execution_count": 31,
   "id": "4fa339d6",
   "metadata": {
    "execution": {
     "iopub.execute_input": "2024-03-02T13:32:48.978107Z",
     "iopub.status.busy": "2024-03-02T13:32:48.976964Z",
     "iopub.status.idle": "2024-03-02T13:32:48.982652Z",
     "shell.execute_reply": "2024-03-02T13:32:48.981450Z"
    },
    "papermill": {
     "duration": 0.025054,
     "end_time": "2024-03-02T13:32:48.985301",
     "exception": false,
     "start_time": "2024-03-02T13:32:48.960247",
     "status": "completed"
    },
    "tags": []
   },
   "outputs": [],
   "source": [
    "lr=LinearRegression()"
   ]
  },
  {
   "cell_type": "code",
   "execution_count": 32,
   "id": "13563551",
   "metadata": {
    "execution": {
     "iopub.execute_input": "2024-03-02T13:32:49.019406Z",
     "iopub.status.busy": "2024-03-02T13:32:49.019021Z",
     "iopub.status.idle": "2024-03-02T13:32:50.540963Z",
     "shell.execute_reply": "2024-03-02T13:32:50.539360Z"
    },
    "papermill": {
     "duration": 1.543321,
     "end_time": "2024-03-02T13:32:50.544907",
     "exception": false,
     "start_time": "2024-03-02T13:32:49.001586",
     "status": "completed"
    },
    "tags": []
   },
   "outputs": [
    {
     "data": {
      "text/html": [
       "<style>#sk-container-id-1 {color: black;background-color: white;}#sk-container-id-1 pre{padding: 0;}#sk-container-id-1 div.sk-toggleable {background-color: white;}#sk-container-id-1 label.sk-toggleable__label {cursor: pointer;display: block;width: 100%;margin-bottom: 0;padding: 0.3em;box-sizing: border-box;text-align: center;}#sk-container-id-1 label.sk-toggleable__label-arrow:before {content: \"▸\";float: left;margin-right: 0.25em;color: #696969;}#sk-container-id-1 label.sk-toggleable__label-arrow:hover:before {color: black;}#sk-container-id-1 div.sk-estimator:hover label.sk-toggleable__label-arrow:before {color: black;}#sk-container-id-1 div.sk-toggleable__content {max-height: 0;max-width: 0;overflow: hidden;text-align: left;background-color: #f0f8ff;}#sk-container-id-1 div.sk-toggleable__content pre {margin: 0.2em;color: black;border-radius: 0.25em;background-color: #f0f8ff;}#sk-container-id-1 input.sk-toggleable__control:checked~div.sk-toggleable__content {max-height: 200px;max-width: 100%;overflow: auto;}#sk-container-id-1 input.sk-toggleable__control:checked~label.sk-toggleable__label-arrow:before {content: \"▾\";}#sk-container-id-1 div.sk-estimator input.sk-toggleable__control:checked~label.sk-toggleable__label {background-color: #d4ebff;}#sk-container-id-1 div.sk-label input.sk-toggleable__control:checked~label.sk-toggleable__label {background-color: #d4ebff;}#sk-container-id-1 input.sk-hidden--visually {border: 0;clip: rect(1px 1px 1px 1px);clip: rect(1px, 1px, 1px, 1px);height: 1px;margin: -1px;overflow: hidden;padding: 0;position: absolute;width: 1px;}#sk-container-id-1 div.sk-estimator {font-family: monospace;background-color: #f0f8ff;border: 1px dotted black;border-radius: 0.25em;box-sizing: border-box;margin-bottom: 0.5em;}#sk-container-id-1 div.sk-estimator:hover {background-color: #d4ebff;}#sk-container-id-1 div.sk-parallel-item::after {content: \"\";width: 100%;border-bottom: 1px solid gray;flex-grow: 1;}#sk-container-id-1 div.sk-label:hover label.sk-toggleable__label {background-color: #d4ebff;}#sk-container-id-1 div.sk-serial::before {content: \"\";position: absolute;border-left: 1px solid gray;box-sizing: border-box;top: 0;bottom: 0;left: 50%;z-index: 0;}#sk-container-id-1 div.sk-serial {display: flex;flex-direction: column;align-items: center;background-color: white;padding-right: 0.2em;padding-left: 0.2em;position: relative;}#sk-container-id-1 div.sk-item {position: relative;z-index: 1;}#sk-container-id-1 div.sk-parallel {display: flex;align-items: stretch;justify-content: center;background-color: white;position: relative;}#sk-container-id-1 div.sk-item::before, #sk-container-id-1 div.sk-parallel-item::before {content: \"\";position: absolute;border-left: 1px solid gray;box-sizing: border-box;top: 0;bottom: 0;left: 50%;z-index: -1;}#sk-container-id-1 div.sk-parallel-item {display: flex;flex-direction: column;z-index: 1;position: relative;background-color: white;}#sk-container-id-1 div.sk-parallel-item:first-child::after {align-self: flex-end;width: 50%;}#sk-container-id-1 div.sk-parallel-item:last-child::after {align-self: flex-start;width: 50%;}#sk-container-id-1 div.sk-parallel-item:only-child::after {width: 0;}#sk-container-id-1 div.sk-dashed-wrapped {border: 1px dashed gray;margin: 0 0.4em 0.5em 0.4em;box-sizing: border-box;padding-bottom: 0.4em;background-color: white;}#sk-container-id-1 div.sk-label label {font-family: monospace;font-weight: bold;display: inline-block;line-height: 1.2em;}#sk-container-id-1 div.sk-label-container {text-align: center;}#sk-container-id-1 div.sk-container {/* jupyter's `normalize.less` sets `[hidden] { display: none; }` but bootstrap.min.css set `[hidden] { display: none !important; }` so we also need the `!important` here to be able to override the default hidden behavior on the sphinx rendered scikit-learn.org. See: https://github.com/scikit-learn/scikit-learn/issues/21755 */display: inline-block !important;position: relative;}#sk-container-id-1 div.sk-text-repr-fallback {display: none;}</style><div id=\"sk-container-id-1\" class=\"sk-top-container\"><div class=\"sk-text-repr-fallback\"><pre>LinearRegression()</pre><b>In a Jupyter environment, please rerun this cell to show the HTML representation or trust the notebook. <br />On GitHub, the HTML representation is unable to render, please try loading this page with nbviewer.org.</b></div><div class=\"sk-container\" hidden><div class=\"sk-item\"><div class=\"sk-estimator sk-toggleable\"><input class=\"sk-toggleable__control sk-hidden--visually\" id=\"sk-estimator-id-1\" type=\"checkbox\" checked><label for=\"sk-estimator-id-1\" class=\"sk-toggleable__label sk-toggleable__label-arrow\">LinearRegression</label><div class=\"sk-toggleable__content\"><pre>LinearRegression()</pre></div></div></div></div></div>"
      ],
      "text/plain": [
       "LinearRegression()"
      ]
     },
     "execution_count": 32,
     "metadata": {},
     "output_type": "execute_result"
    }
   ],
   "source": [
    "lr_model=lr.fit(xtrain,ytrain)\n",
    "lr_model"
   ]
  },
  {
   "cell_type": "code",
   "execution_count": 33,
   "id": "00b49484",
   "metadata": {
    "execution": {
     "iopub.execute_input": "2024-03-02T13:32:50.648224Z",
     "iopub.status.busy": "2024-03-02T13:32:50.647855Z",
     "iopub.status.idle": "2024-03-02T13:32:50.654222Z",
     "shell.execute_reply": "2024-03-02T13:32:50.653170Z"
    },
    "papermill": {
     "duration": 0.062013,
     "end_time": "2024-03-02T13:32:50.656287",
     "exception": false,
     "start_time": "2024-03-02T13:32:50.594274",
     "status": "completed"
    },
    "tags": []
   },
   "outputs": [
    {
     "data": {
      "text/plain": [
       "101335.59146791956"
      ]
     },
     "execution_count": 33,
     "metadata": {},
     "output_type": "execute_result"
    }
   ],
   "source": [
    "lr_model.intercept_"
   ]
  },
  {
   "cell_type": "code",
   "execution_count": 34,
   "id": "99c2d41f",
   "metadata": {
    "execution": {
     "iopub.execute_input": "2024-03-02T13:32:50.688744Z",
     "iopub.status.busy": "2024-03-02T13:32:50.688344Z",
     "iopub.status.idle": "2024-03-02T13:32:50.695047Z",
     "shell.execute_reply": "2024-03-02T13:32:50.693991Z"
    },
    "papermill": {
     "duration": 0.025376,
     "end_time": "2024-03-02T13:32:50.697103",
     "exception": false,
     "start_time": "2024-03-02T13:32:50.671727",
     "status": "completed"
    },
    "tags": []
   },
   "outputs": [
    {
     "data": {
      "text/plain": [
       "array([  -651.60811967, -56348.75572952,  18933.5048583 , ...,\n",
       "        -3845.53371637,  -3179.19976234,   1331.33865313])"
      ]
     },
     "execution_count": 34,
     "metadata": {},
     "output_type": "execute_result"
    }
   ],
   "source": [
    "lr_model.coef_"
   ]
  },
  {
   "cell_type": "code",
   "execution_count": 35,
   "id": "5052b771",
   "metadata": {
    "execution": {
     "iopub.execute_input": "2024-03-02T13:32:50.730808Z",
     "iopub.status.busy": "2024-03-02T13:32:50.729729Z",
     "iopub.status.idle": "2024-03-02T13:32:50.744649Z",
     "shell.execute_reply": "2024-03-02T13:32:50.743544Z"
    },
    "papermill": {
     "duration": 0.034856,
     "end_time": "2024-03-02T13:32:50.747486",
     "exception": false,
     "start_time": "2024-03-02T13:32:50.712630",
     "status": "completed"
    },
    "tags": []
   },
   "outputs": [
    {
     "data": {
      "text/plain": [
       "array([160000.        , 160000.        ,  66871.60960819, 160000.        ,\n",
       "        99181.5677752 ,  60000.        , 160000.        , 128337.89774516,\n",
       "       160000.        ,  76693.68415809, 225000.        ,  91441.63629812,\n",
       "       160000.        , 123626.        , 129818.44671154, 160000.        ,\n",
       "       160000.        , 160000.        , 160000.        , 160000.        ,\n",
       "       160000.        , 160000.        , 111049.05346088, 160000.        ,\n",
       "       160000.        , 160000.        ,  99725.5408682 , 124000.        ,\n",
       "       138100.        , 160000.        , 134654.45180058, 125000.        ,\n",
       "       122063.82194206, 143287.86885459, 160000.        , 160000.        ,\n",
       "         4145.        , 160000.        ,  81469.01179454,  69451.87197143,\n",
       "       109600.        , 130929.        , 115078.82300786, 150000.        ,\n",
       "        88688.04576489, 160000.        , 141900.        ,  86000.        ,\n",
       "       135000.        , 160000.        , 120297.19207949,  71620.92061449,\n",
       "       160000.        , 140000.        , 119877.96553489, 160000.        ,\n",
       "       160000.        , 147500.        , 160000.        , 160000.        ,\n",
       "       170000.        , 109600.        , 160000.        ,  95461.68753858,\n",
       "       160000.        ,  45500.        ,  81469.01179454,  98647.85969573,\n",
       "       176000.        , 130000.        ,  76693.68415809, 108813.43593265,\n",
       "       160000.        , 108479.07397702, 160000.        , 160000.        ,\n",
       "       160000.        , 160000.        , 121461.17688793, 160000.        ,\n",
       "        51500.        , 160000.        , 160000.        , 160000.        ,\n",
       "       139984.21520818, 117988.96052971,  60000.        , 131200.        ,\n",
       "       165000.        ,  98647.85969573,  99764.        , 101000.        ,\n",
       "       166988.79615542, 125000.        , 118765.77289469,  64372.        ,\n",
       "       128599.04701714, 160000.        , 160000.        , 160000.        ,\n",
       "       125000.        , 160000.        ,  51500.        ,  77111.15187015,\n",
       "       108307.12399617, 160000.        , 155315.48211186,  64500.        ,\n",
       "       100000.        , 112804.404093  , 160000.        ,  95511.14512733,\n",
       "       100639.93432945, 103992.41358543,  93300.        , 160000.        ,\n",
       "       117779.44330258,  89882.93158987, 150000.        ,  85108.44919541,\n",
       "       160000.        , 160000.        , 150480.        , 160000.        ,\n",
       "       160000.        , 118879.00017889,  95834.63957498, 105120.        ,\n",
       "       160000.        , 125000.        , 125632.85413483, 160000.        ,\n",
       "       124000.        , 120297.19207949, 122589.69942798, 142000.        ,\n",
       "       110000.        , 216000.        , 160000.        ])"
      ]
     },
     "execution_count": 35,
     "metadata": {},
     "output_type": "execute_result"
    }
   ],
   "source": [
    "y_pred=lr_model.predict(xtest)\n",
    "y_pred"
   ]
  },
  {
   "cell_type": "code",
   "execution_count": 36,
   "id": "c82838b3",
   "metadata": {
    "execution": {
     "iopub.execute_input": "2024-03-02T13:32:50.803924Z",
     "iopub.status.busy": "2024-03-02T13:32:50.802166Z",
     "iopub.status.idle": "2024-03-02T13:32:50.808485Z",
     "shell.execute_reply": "2024-03-02T13:32:50.807447Z"
    },
    "papermill": {
     "duration": 0.037614,
     "end_time": "2024-03-02T13:32:50.811246",
     "exception": false,
     "start_time": "2024-03-02T13:32:50.773632",
     "status": "completed"
    },
    "tags": []
   },
   "outputs": [],
   "source": [
    "from sklearn.metrics import r2_score,mean_squared_error"
   ]
  },
  {
   "cell_type": "code",
   "execution_count": null,
   "id": "ccd63fb1",
   "metadata": {
    "papermill": {
     "duration": 0.023083,
     "end_time": "2024-03-02T13:32:50.862024",
     "exception": false,
     "start_time": "2024-03-02T13:32:50.838941",
     "status": "completed"
    },
    "tags": []
   },
   "outputs": [],
   "source": []
  },
  {
   "cell_type": "code",
   "execution_count": 37,
   "id": "82c2fcde",
   "metadata": {
    "execution": {
     "iopub.execute_input": "2024-03-02T13:32:50.896010Z",
     "iopub.status.busy": "2024-03-02T13:32:50.895627Z",
     "iopub.status.idle": "2024-03-02T13:32:50.903432Z",
     "shell.execute_reply": "2024-03-02T13:32:50.902315Z"
    },
    "papermill": {
     "duration": 0.02743,
     "end_time": "2024-03-02T13:32:50.905452",
     "exception": false,
     "start_time": "2024-03-02T13:32:50.878022",
     "status": "completed"
    },
    "tags": []
   },
   "outputs": [
    {
     "data": {
      "text/plain": [
       "0.7885145877677237"
      ]
     },
     "execution_count": 37,
     "metadata": {},
     "output_type": "execute_result"
    }
   ],
   "source": [
    "r2_score(ytest,y_pred)"
   ]
  },
  {
   "cell_type": "code",
   "execution_count": 38,
   "id": "e6d44bb0",
   "metadata": {
    "execution": {
     "iopub.execute_input": "2024-03-02T13:32:50.940608Z",
     "iopub.status.busy": "2024-03-02T13:32:50.939679Z",
     "iopub.status.idle": "2024-03-02T13:32:50.947181Z",
     "shell.execute_reply": "2024-03-02T13:32:50.946320Z"
    },
    "papermill": {
     "duration": 0.027474,
     "end_time": "2024-03-02T13:32:50.949209",
     "exception": false,
     "start_time": "2024-03-02T13:32:50.921735",
     "status": "completed"
    },
    "tags": []
   },
   "outputs": [
    {
     "data": {
      "text/plain": [
       "18287.49181448659"
      ]
     },
     "execution_count": 38,
     "metadata": {},
     "output_type": "execute_result"
    }
   ],
   "source": [
    "np.sqrt(mean_squared_error(ytest,y_pred))"
   ]
  },
  {
   "cell_type": "code",
   "execution_count": 39,
   "id": "1c3cf616",
   "metadata": {
    "execution": {
     "iopub.execute_input": "2024-03-02T13:32:50.983122Z",
     "iopub.status.busy": "2024-03-02T13:32:50.982412Z",
     "iopub.status.idle": "2024-03-02T13:32:50.988938Z",
     "shell.execute_reply": "2024-03-02T13:32:50.987925Z"
    },
    "papermill": {
     "duration": 0.025669,
     "end_time": "2024-03-02T13:32:50.990890",
     "exception": false,
     "start_time": "2024-03-02T13:32:50.965221",
     "status": "completed"
    },
    "tags": []
   },
   "outputs": [
    {
     "data": {
      "text/plain": [
       "array([  -651.60811967, -56348.75572952,  18933.5048583 , ...,\n",
       "        -3845.53371637,  -3179.19976234,   1331.33865313])"
      ]
     },
     "execution_count": 39,
     "metadata": {},
     "output_type": "execute_result"
    }
   ],
   "source": [
    "lr_model.coef_\n"
   ]
  },
  {
   "cell_type": "code",
   "execution_count": 40,
   "id": "0cff82b0",
   "metadata": {
    "execution": {
     "iopub.execute_input": "2024-03-02T13:32:51.026017Z",
     "iopub.status.busy": "2024-03-02T13:32:51.025419Z",
     "iopub.status.idle": "2024-03-02T13:32:51.032066Z",
     "shell.execute_reply": "2024-03-02T13:32:51.031001Z"
    },
    "papermill": {
     "duration": 0.027206,
     "end_time": "2024-03-02T13:32:51.034483",
     "exception": false,
     "start_time": "2024-03-02T13:32:51.007277",
     "status": "completed"
    },
    "tags": []
   },
   "outputs": [
    {
     "data": {
      "text/plain": [
       "10418"
      ]
     },
     "execution_count": 40,
     "metadata": {},
     "output_type": "execute_result"
    }
   ],
   "source": [
    "len(lr_model.coef_)"
   ]
  },
  {
   "cell_type": "code",
   "execution_count": 41,
   "id": "909ce983",
   "metadata": {
    "execution": {
     "iopub.execute_input": "2024-03-02T13:32:51.072568Z",
     "iopub.status.busy": "2024-03-02T13:32:51.072164Z",
     "iopub.status.idle": "2024-03-02T13:32:51.078758Z",
     "shell.execute_reply": "2024-03-02T13:32:51.077727Z"
    },
    "papermill": {
     "duration": 0.028436,
     "end_time": "2024-03-02T13:32:51.080927",
     "exception": false,
     "start_time": "2024-03-02T13:32:51.052491",
     "status": "completed"
    },
    "tags": []
   },
   "outputs": [
    {
     "data": {
      "text/plain": [
       "10418"
      ]
     },
     "execution_count": 41,
     "metadata": {},
     "output_type": "execute_result"
    }
   ],
   "source": [
    "len(xtrain[0])"
   ]
  },
  {
   "cell_type": "code",
   "execution_count": 42,
   "id": "e692b56b",
   "metadata": {
    "execution": {
     "iopub.execute_input": "2024-03-02T13:32:51.118420Z",
     "iopub.status.busy": "2024-03-02T13:32:51.117780Z",
     "iopub.status.idle": "2024-03-02T13:32:51.123020Z",
     "shell.execute_reply": "2024-03-02T13:32:51.122285Z"
    },
    "papermill": {
     "duration": 0.026836,
     "end_time": "2024-03-02T13:32:51.125130",
     "exception": false,
     "start_time": "2024-03-02T13:32:51.098294",
     "status": "completed"
    },
    "tags": []
   },
   "outputs": [
    {
     "data": {
      "text/plain": [
       "(553, 10418)"
      ]
     },
     "execution_count": 42,
     "metadata": {},
     "output_type": "execute_result"
    }
   ],
   "source": [
    "xtrain.shape"
   ]
  },
  {
   "cell_type": "code",
   "execution_count": 43,
   "id": "585db420",
   "metadata": {
    "execution": {
     "iopub.execute_input": "2024-03-02T13:32:51.162136Z",
     "iopub.status.busy": "2024-03-02T13:32:51.161509Z",
     "iopub.status.idle": "2024-03-02T13:32:51.198894Z",
     "shell.execute_reply": "2024-03-02T13:32:51.197837Z"
    },
    "papermill": {
     "duration": 0.058843,
     "end_time": "2024-03-02T13:32:51.201282",
     "exception": false,
     "start_time": "2024-03-02T13:32:51.142439",
     "status": "completed"
    },
    "tags": []
   },
   "outputs": [
    {
     "data": {
      "text/html": [
       "<div>\n",
       "<style scoped>\n",
       "    .dataframe tbody tr th:only-of-type {\n",
       "        vertical-align: middle;\n",
       "    }\n",
       "\n",
       "    .dataframe tbody tr th {\n",
       "        vertical-align: top;\n",
       "    }\n",
       "\n",
       "    .dataframe thead th {\n",
       "        text-align: right;\n",
       "    }\n",
       "</style>\n",
       "<table border=\"1\" class=\"dataframe\">\n",
       "  <thead>\n",
       "    <tr style=\"text-align: right;\">\n",
       "      <th></th>\n",
       "      <th>desc_0</th>\n",
       "      <th>desc_1</th>\n",
       "      <th>desc_2</th>\n",
       "      <th>desc_3</th>\n",
       "      <th>desc_4</th>\n",
       "      <th>desc_5</th>\n",
       "      <th>desc_6</th>\n",
       "      <th>desc_7</th>\n",
       "      <th>desc_8</th>\n",
       "      <th>desc_9</th>\n",
       "      <th>...</th>\n",
       "      <th>desc_543</th>\n",
       "      <th>desc_544</th>\n",
       "      <th>desc_545</th>\n",
       "      <th>desc_546</th>\n",
       "      <th>desc_547</th>\n",
       "      <th>desc_548</th>\n",
       "      <th>desc_549</th>\n",
       "      <th>desc_550</th>\n",
       "      <th>desc_551</th>\n",
       "      <th>desc_552</th>\n",
       "    </tr>\n",
       "  </thead>\n",
       "  <tbody>\n",
       "    <tr>\n",
       "      <th>0</th>\n",
       "      <td>0.0</td>\n",
       "      <td>0.0</td>\n",
       "      <td>0.0</td>\n",
       "      <td>0.0</td>\n",
       "      <td>0.0</td>\n",
       "      <td>0.0</td>\n",
       "      <td>0.0</td>\n",
       "      <td>0.0</td>\n",
       "      <td>0.0</td>\n",
       "      <td>0.0</td>\n",
       "      <td>...</td>\n",
       "      <td>0.0</td>\n",
       "      <td>0.0</td>\n",
       "      <td>0.0</td>\n",
       "      <td>0.0</td>\n",
       "      <td>0.0</td>\n",
       "      <td>0.0</td>\n",
       "      <td>0.0</td>\n",
       "      <td>0.0</td>\n",
       "      <td>0.0</td>\n",
       "      <td>0.00000</td>\n",
       "    </tr>\n",
       "    <tr>\n",
       "      <th>1</th>\n",
       "      <td>0.0</td>\n",
       "      <td>0.0</td>\n",
       "      <td>0.0</td>\n",
       "      <td>0.0</td>\n",
       "      <td>0.0</td>\n",
       "      <td>0.0</td>\n",
       "      <td>0.0</td>\n",
       "      <td>0.0</td>\n",
       "      <td>0.0</td>\n",
       "      <td>0.0</td>\n",
       "      <td>...</td>\n",
       "      <td>0.0</td>\n",
       "      <td>0.0</td>\n",
       "      <td>0.0</td>\n",
       "      <td>0.0</td>\n",
       "      <td>0.0</td>\n",
       "      <td>0.0</td>\n",
       "      <td>0.0</td>\n",
       "      <td>0.0</td>\n",
       "      <td>0.0</td>\n",
       "      <td>0.00000</td>\n",
       "    </tr>\n",
       "    <tr>\n",
       "      <th>2</th>\n",
       "      <td>0.0</td>\n",
       "      <td>0.0</td>\n",
       "      <td>0.0</td>\n",
       "      <td>0.0</td>\n",
       "      <td>0.0</td>\n",
       "      <td>0.0</td>\n",
       "      <td>0.0</td>\n",
       "      <td>0.0</td>\n",
       "      <td>0.0</td>\n",
       "      <td>0.0</td>\n",
       "      <td>...</td>\n",
       "      <td>0.0</td>\n",
       "      <td>0.0</td>\n",
       "      <td>0.0</td>\n",
       "      <td>0.0</td>\n",
       "      <td>0.0</td>\n",
       "      <td>0.0</td>\n",
       "      <td>0.0</td>\n",
       "      <td>0.0</td>\n",
       "      <td>0.0</td>\n",
       "      <td>0.00000</td>\n",
       "    </tr>\n",
       "    <tr>\n",
       "      <th>3</th>\n",
       "      <td>0.0</td>\n",
       "      <td>0.0</td>\n",
       "      <td>0.0</td>\n",
       "      <td>0.0</td>\n",
       "      <td>0.0</td>\n",
       "      <td>0.0</td>\n",
       "      <td>0.0</td>\n",
       "      <td>0.0</td>\n",
       "      <td>0.0</td>\n",
       "      <td>0.0</td>\n",
       "      <td>...</td>\n",
       "      <td>0.0</td>\n",
       "      <td>0.0</td>\n",
       "      <td>0.0</td>\n",
       "      <td>0.0</td>\n",
       "      <td>0.0</td>\n",
       "      <td>0.0</td>\n",
       "      <td>0.0</td>\n",
       "      <td>0.0</td>\n",
       "      <td>0.0</td>\n",
       "      <td>0.00000</td>\n",
       "    </tr>\n",
       "    <tr>\n",
       "      <th>4</th>\n",
       "      <td>0.0</td>\n",
       "      <td>0.0</td>\n",
       "      <td>0.0</td>\n",
       "      <td>0.0</td>\n",
       "      <td>0.0</td>\n",
       "      <td>0.0</td>\n",
       "      <td>0.0</td>\n",
       "      <td>0.0</td>\n",
       "      <td>0.0</td>\n",
       "      <td>0.0</td>\n",
       "      <td>...</td>\n",
       "      <td>0.0</td>\n",
       "      <td>0.0</td>\n",
       "      <td>0.0</td>\n",
       "      <td>0.0</td>\n",
       "      <td>0.0</td>\n",
       "      <td>0.0</td>\n",
       "      <td>0.0</td>\n",
       "      <td>0.0</td>\n",
       "      <td>0.0</td>\n",
       "      <td>0.00000</td>\n",
       "    </tr>\n",
       "    <tr>\n",
       "      <th>...</th>\n",
       "      <td>...</td>\n",
       "      <td>...</td>\n",
       "      <td>...</td>\n",
       "      <td>...</td>\n",
       "      <td>...</td>\n",
       "      <td>...</td>\n",
       "      <td>...</td>\n",
       "      <td>...</td>\n",
       "      <td>...</td>\n",
       "      <td>...</td>\n",
       "      <td>...</td>\n",
       "      <td>...</td>\n",
       "      <td>...</td>\n",
       "      <td>...</td>\n",
       "      <td>...</td>\n",
       "      <td>...</td>\n",
       "      <td>...</td>\n",
       "      <td>...</td>\n",
       "      <td>...</td>\n",
       "      <td>...</td>\n",
       "      <td>...</td>\n",
       "    </tr>\n",
       "    <tr>\n",
       "      <th>10413</th>\n",
       "      <td>0.0</td>\n",
       "      <td>0.0</td>\n",
       "      <td>0.0</td>\n",
       "      <td>0.0</td>\n",
       "      <td>0.0</td>\n",
       "      <td>0.0</td>\n",
       "      <td>0.0</td>\n",
       "      <td>0.0</td>\n",
       "      <td>0.0</td>\n",
       "      <td>0.0</td>\n",
       "      <td>...</td>\n",
       "      <td>0.0</td>\n",
       "      <td>0.0</td>\n",
       "      <td>0.0</td>\n",
       "      <td>0.0</td>\n",
       "      <td>0.0</td>\n",
       "      <td>0.0</td>\n",
       "      <td>0.0</td>\n",
       "      <td>0.0</td>\n",
       "      <td>0.0</td>\n",
       "      <td>0.00000</td>\n",
       "    </tr>\n",
       "    <tr>\n",
       "      <th>10414</th>\n",
       "      <td>0.0</td>\n",
       "      <td>0.0</td>\n",
       "      <td>0.0</td>\n",
       "      <td>0.0</td>\n",
       "      <td>0.0</td>\n",
       "      <td>0.0</td>\n",
       "      <td>0.0</td>\n",
       "      <td>0.0</td>\n",
       "      <td>0.0</td>\n",
       "      <td>0.0</td>\n",
       "      <td>...</td>\n",
       "      <td>0.0</td>\n",
       "      <td>0.0</td>\n",
       "      <td>0.0</td>\n",
       "      <td>0.0</td>\n",
       "      <td>0.0</td>\n",
       "      <td>0.0</td>\n",
       "      <td>0.0</td>\n",
       "      <td>0.0</td>\n",
       "      <td>0.0</td>\n",
       "      <td>0.00000</td>\n",
       "    </tr>\n",
       "    <tr>\n",
       "      <th>10415</th>\n",
       "      <td>0.0</td>\n",
       "      <td>0.0</td>\n",
       "      <td>0.0</td>\n",
       "      <td>0.0</td>\n",
       "      <td>0.0</td>\n",
       "      <td>0.0</td>\n",
       "      <td>0.0</td>\n",
       "      <td>0.0</td>\n",
       "      <td>0.0</td>\n",
       "      <td>0.0</td>\n",
       "      <td>...</td>\n",
       "      <td>0.0</td>\n",
       "      <td>0.0</td>\n",
       "      <td>0.0</td>\n",
       "      <td>0.0</td>\n",
       "      <td>0.0</td>\n",
       "      <td>0.0</td>\n",
       "      <td>0.0</td>\n",
       "      <td>0.0</td>\n",
       "      <td>0.0</td>\n",
       "      <td>0.00000</td>\n",
       "    </tr>\n",
       "    <tr>\n",
       "      <th>10416</th>\n",
       "      <td>0.0</td>\n",
       "      <td>0.0</td>\n",
       "      <td>0.0</td>\n",
       "      <td>0.0</td>\n",
       "      <td>0.0</td>\n",
       "      <td>0.0</td>\n",
       "      <td>0.0</td>\n",
       "      <td>0.0</td>\n",
       "      <td>0.0</td>\n",
       "      <td>0.0</td>\n",
       "      <td>...</td>\n",
       "      <td>0.0</td>\n",
       "      <td>0.0</td>\n",
       "      <td>0.0</td>\n",
       "      <td>0.0</td>\n",
       "      <td>0.0</td>\n",
       "      <td>0.0</td>\n",
       "      <td>0.0</td>\n",
       "      <td>0.0</td>\n",
       "      <td>0.0</td>\n",
       "      <td>0.08073</td>\n",
       "    </tr>\n",
       "    <tr>\n",
       "      <th>10417</th>\n",
       "      <td>0.0</td>\n",
       "      <td>0.0</td>\n",
       "      <td>0.0</td>\n",
       "      <td>0.0</td>\n",
       "      <td>0.0</td>\n",
       "      <td>0.0</td>\n",
       "      <td>0.0</td>\n",
       "      <td>0.0</td>\n",
       "      <td>0.0</td>\n",
       "      <td>0.0</td>\n",
       "      <td>...</td>\n",
       "      <td>0.0</td>\n",
       "      <td>0.0</td>\n",
       "      <td>0.0</td>\n",
       "      <td>0.0</td>\n",
       "      <td>0.0</td>\n",
       "      <td>0.0</td>\n",
       "      <td>0.0</td>\n",
       "      <td>0.0</td>\n",
       "      <td>0.0</td>\n",
       "      <td>0.00000</td>\n",
       "    </tr>\n",
       "  </tbody>\n",
       "</table>\n",
       "<p>10418 rows × 553 columns</p>\n",
       "</div>"
      ],
      "text/plain": [
       "       desc_0  desc_1  desc_2  desc_3  desc_4  desc_5  desc_6  desc_7  desc_8  \\\n",
       "0         0.0     0.0     0.0     0.0     0.0     0.0     0.0     0.0     0.0   \n",
       "1         0.0     0.0     0.0     0.0     0.0     0.0     0.0     0.0     0.0   \n",
       "2         0.0     0.0     0.0     0.0     0.0     0.0     0.0     0.0     0.0   \n",
       "3         0.0     0.0     0.0     0.0     0.0     0.0     0.0     0.0     0.0   \n",
       "4         0.0     0.0     0.0     0.0     0.0     0.0     0.0     0.0     0.0   \n",
       "...       ...     ...     ...     ...     ...     ...     ...     ...     ...   \n",
       "10413     0.0     0.0     0.0     0.0     0.0     0.0     0.0     0.0     0.0   \n",
       "10414     0.0     0.0     0.0     0.0     0.0     0.0     0.0     0.0     0.0   \n",
       "10415     0.0     0.0     0.0     0.0     0.0     0.0     0.0     0.0     0.0   \n",
       "10416     0.0     0.0     0.0     0.0     0.0     0.0     0.0     0.0     0.0   \n",
       "10417     0.0     0.0     0.0     0.0     0.0     0.0     0.0     0.0     0.0   \n",
       "\n",
       "       desc_9  ...  desc_543  desc_544  desc_545  desc_546  desc_547  \\\n",
       "0         0.0  ...       0.0       0.0       0.0       0.0       0.0   \n",
       "1         0.0  ...       0.0       0.0       0.0       0.0       0.0   \n",
       "2         0.0  ...       0.0       0.0       0.0       0.0       0.0   \n",
       "3         0.0  ...       0.0       0.0       0.0       0.0       0.0   \n",
       "4         0.0  ...       0.0       0.0       0.0       0.0       0.0   \n",
       "...       ...  ...       ...       ...       ...       ...       ...   \n",
       "10413     0.0  ...       0.0       0.0       0.0       0.0       0.0   \n",
       "10414     0.0  ...       0.0       0.0       0.0       0.0       0.0   \n",
       "10415     0.0  ...       0.0       0.0       0.0       0.0       0.0   \n",
       "10416     0.0  ...       0.0       0.0       0.0       0.0       0.0   \n",
       "10417     0.0  ...       0.0       0.0       0.0       0.0       0.0   \n",
       "\n",
       "       desc_548  desc_549  desc_550  desc_551  desc_552  \n",
       "0           0.0       0.0       0.0       0.0   0.00000  \n",
       "1           0.0       0.0       0.0       0.0   0.00000  \n",
       "2           0.0       0.0       0.0       0.0   0.00000  \n",
       "3           0.0       0.0       0.0       0.0   0.00000  \n",
       "4           0.0       0.0       0.0       0.0   0.00000  \n",
       "...         ...       ...       ...       ...       ...  \n",
       "10413       0.0       0.0       0.0       0.0   0.00000  \n",
       "10414       0.0       0.0       0.0       0.0   0.00000  \n",
       "10415       0.0       0.0       0.0       0.0   0.00000  \n",
       "10416       0.0       0.0       0.0       0.0   0.08073  \n",
       "10417       0.0       0.0       0.0       0.0   0.00000  \n",
       "\n",
       "[10418 rows x 553 columns]"
      ]
     },
     "execution_count": 43,
     "metadata": {},
     "output_type": "execute_result"
    }
   ],
   "source": [
    "df_weight=pd.DataFrame(xtrain.T,columns=['desc_'+str(i) for i in range(0,xtrain.shape[0])])\n",
    "df_weight"
   ]
  },
  {
   "cell_type": "code",
   "execution_count": 44,
   "id": "921e622a",
   "metadata": {
    "execution": {
     "iopub.execute_input": "2024-03-02T13:32:51.238847Z",
     "iopub.status.busy": "2024-03-02T13:32:51.238456Z",
     "iopub.status.idle": "2024-03-02T13:32:51.274444Z",
     "shell.execute_reply": "2024-03-02T13:32:51.272974Z"
    },
    "papermill": {
     "duration": 0.057519,
     "end_time": "2024-03-02T13:32:51.277176",
     "exception": false,
     "start_time": "2024-03-02T13:32:51.219657",
     "status": "completed"
    },
    "tags": []
   },
   "outputs": [
    {
     "data": {
      "text/html": [
       "<div>\n",
       "<style scoped>\n",
       "    .dataframe tbody tr th:only-of-type {\n",
       "        vertical-align: middle;\n",
       "    }\n",
       "\n",
       "    .dataframe tbody tr th {\n",
       "        vertical-align: top;\n",
       "    }\n",
       "\n",
       "    .dataframe thead th {\n",
       "        text-align: right;\n",
       "    }\n",
       "</style>\n",
       "<table border=\"1\" class=\"dataframe\">\n",
       "  <thead>\n",
       "    <tr style=\"text-align: right;\">\n",
       "      <th></th>\n",
       "      <th>desc_0</th>\n",
       "      <th>desc_1</th>\n",
       "      <th>desc_2</th>\n",
       "      <th>desc_3</th>\n",
       "      <th>desc_4</th>\n",
       "      <th>desc_5</th>\n",
       "      <th>desc_6</th>\n",
       "      <th>desc_7</th>\n",
       "      <th>desc_8</th>\n",
       "      <th>desc_9</th>\n",
       "      <th>...</th>\n",
       "      <th>desc_544</th>\n",
       "      <th>desc_545</th>\n",
       "      <th>desc_546</th>\n",
       "      <th>desc_547</th>\n",
       "      <th>desc_548</th>\n",
       "      <th>desc_549</th>\n",
       "      <th>desc_550</th>\n",
       "      <th>desc_551</th>\n",
       "      <th>desc_552</th>\n",
       "      <th>weight</th>\n",
       "    </tr>\n",
       "  </thead>\n",
       "  <tbody>\n",
       "    <tr>\n",
       "      <th>0</th>\n",
       "      <td>0.0</td>\n",
       "      <td>0.0</td>\n",
       "      <td>0.0</td>\n",
       "      <td>0.0</td>\n",
       "      <td>0.0</td>\n",
       "      <td>0.0</td>\n",
       "      <td>0.0</td>\n",
       "      <td>0.0</td>\n",
       "      <td>0.0</td>\n",
       "      <td>0.0</td>\n",
       "      <td>...</td>\n",
       "      <td>0.0</td>\n",
       "      <td>0.0</td>\n",
       "      <td>0.0</td>\n",
       "      <td>0.0</td>\n",
       "      <td>0.0</td>\n",
       "      <td>0.0</td>\n",
       "      <td>0.0</td>\n",
       "      <td>0.0</td>\n",
       "      <td>0.0</td>\n",
       "      <td>-651.608120</td>\n",
       "    </tr>\n",
       "    <tr>\n",
       "      <th>1</th>\n",
       "      <td>0.0</td>\n",
       "      <td>0.0</td>\n",
       "      <td>0.0</td>\n",
       "      <td>0.0</td>\n",
       "      <td>0.0</td>\n",
       "      <td>0.0</td>\n",
       "      <td>0.0</td>\n",
       "      <td>0.0</td>\n",
       "      <td>0.0</td>\n",
       "      <td>0.0</td>\n",
       "      <td>...</td>\n",
       "      <td>0.0</td>\n",
       "      <td>0.0</td>\n",
       "      <td>0.0</td>\n",
       "      <td>0.0</td>\n",
       "      <td>0.0</td>\n",
       "      <td>0.0</td>\n",
       "      <td>0.0</td>\n",
       "      <td>0.0</td>\n",
       "      <td>0.0</td>\n",
       "      <td>-56348.755730</td>\n",
       "    </tr>\n",
       "    <tr>\n",
       "      <th>2</th>\n",
       "      <td>0.0</td>\n",
       "      <td>0.0</td>\n",
       "      <td>0.0</td>\n",
       "      <td>0.0</td>\n",
       "      <td>0.0</td>\n",
       "      <td>0.0</td>\n",
       "      <td>0.0</td>\n",
       "      <td>0.0</td>\n",
       "      <td>0.0</td>\n",
       "      <td>0.0</td>\n",
       "      <td>...</td>\n",
       "      <td>0.0</td>\n",
       "      <td>0.0</td>\n",
       "      <td>0.0</td>\n",
       "      <td>0.0</td>\n",
       "      <td>0.0</td>\n",
       "      <td>0.0</td>\n",
       "      <td>0.0</td>\n",
       "      <td>0.0</td>\n",
       "      <td>0.0</td>\n",
       "      <td>18933.504858</td>\n",
       "    </tr>\n",
       "    <tr>\n",
       "      <th>3</th>\n",
       "      <td>0.0</td>\n",
       "      <td>0.0</td>\n",
       "      <td>0.0</td>\n",
       "      <td>0.0</td>\n",
       "      <td>0.0</td>\n",
       "      <td>0.0</td>\n",
       "      <td>0.0</td>\n",
       "      <td>0.0</td>\n",
       "      <td>0.0</td>\n",
       "      <td>0.0</td>\n",
       "      <td>...</td>\n",
       "      <td>0.0</td>\n",
       "      <td>0.0</td>\n",
       "      <td>0.0</td>\n",
       "      <td>0.0</td>\n",
       "      <td>0.0</td>\n",
       "      <td>0.0</td>\n",
       "      <td>0.0</td>\n",
       "      <td>0.0</td>\n",
       "      <td>0.0</td>\n",
       "      <td>-17953.903885</td>\n",
       "    </tr>\n",
       "    <tr>\n",
       "      <th>4</th>\n",
       "      <td>0.0</td>\n",
       "      <td>0.0</td>\n",
       "      <td>0.0</td>\n",
       "      <td>0.0</td>\n",
       "      <td>0.0</td>\n",
       "      <td>0.0</td>\n",
       "      <td>0.0</td>\n",
       "      <td>0.0</td>\n",
       "      <td>0.0</td>\n",
       "      <td>0.0</td>\n",
       "      <td>...</td>\n",
       "      <td>0.0</td>\n",
       "      <td>0.0</td>\n",
       "      <td>0.0</td>\n",
       "      <td>0.0</td>\n",
       "      <td>0.0</td>\n",
       "      <td>0.0</td>\n",
       "      <td>0.0</td>\n",
       "      <td>0.0</td>\n",
       "      <td>0.0</td>\n",
       "      <td>-7099.345028</td>\n",
       "    </tr>\n",
       "  </tbody>\n",
       "</table>\n",
       "<p>5 rows × 554 columns</p>\n",
       "</div>"
      ],
      "text/plain": [
       "   desc_0  desc_1  desc_2  desc_3  desc_4  desc_5  desc_6  desc_7  desc_8  \\\n",
       "0     0.0     0.0     0.0     0.0     0.0     0.0     0.0     0.0     0.0   \n",
       "1     0.0     0.0     0.0     0.0     0.0     0.0     0.0     0.0     0.0   \n",
       "2     0.0     0.0     0.0     0.0     0.0     0.0     0.0     0.0     0.0   \n",
       "3     0.0     0.0     0.0     0.0     0.0     0.0     0.0     0.0     0.0   \n",
       "4     0.0     0.0     0.0     0.0     0.0     0.0     0.0     0.0     0.0   \n",
       "\n",
       "   desc_9  ...  desc_544  desc_545  desc_546  desc_547  desc_548  desc_549  \\\n",
       "0     0.0  ...       0.0       0.0       0.0       0.0       0.0       0.0   \n",
       "1     0.0  ...       0.0       0.0       0.0       0.0       0.0       0.0   \n",
       "2     0.0  ...       0.0       0.0       0.0       0.0       0.0       0.0   \n",
       "3     0.0  ...       0.0       0.0       0.0       0.0       0.0       0.0   \n",
       "4     0.0  ...       0.0       0.0       0.0       0.0       0.0       0.0   \n",
       "\n",
       "   desc_550  desc_551  desc_552        weight  \n",
       "0       0.0       0.0       0.0   -651.608120  \n",
       "1       0.0       0.0       0.0 -56348.755730  \n",
       "2       0.0       0.0       0.0  18933.504858  \n",
       "3       0.0       0.0       0.0 -17953.903885  \n",
       "4       0.0       0.0       0.0  -7099.345028  \n",
       "\n",
       "[5 rows x 554 columns]"
      ]
     },
     "execution_count": 44,
     "metadata": {},
     "output_type": "execute_result"
    }
   ],
   "source": [
    "df_weight['weight']=pd.Series(lr_model.coef_)\n",
    "df_weight.head()"
   ]
  },
  {
   "cell_type": "code",
   "execution_count": 45,
   "id": "9e6e5342",
   "metadata": {
    "execution": {
     "iopub.execute_input": "2024-03-02T13:32:51.314591Z",
     "iopub.status.busy": "2024-03-02T13:32:51.314114Z",
     "iopub.status.idle": "2024-03-02T13:32:51.320423Z",
     "shell.execute_reply": "2024-03-02T13:32:51.318955Z"
    },
    "papermill": {
     "duration": 0.027824,
     "end_time": "2024-03-02T13:32:51.322837",
     "exception": false,
     "start_time": "2024-03-02T13:32:51.295013",
     "status": "completed"
    },
    "tags": []
   },
   "outputs": [
    {
     "name": "stdout",
     "output_type": "stream",
     "text": [
      "The Base Salary for AI/ML Jobs can be interpreted as: 101335.59146791956\n"
     ]
    }
   ],
   "source": [
    "print(f\"The Base Salary for AI/ML Jobs can be interpreted as: {lr_model.intercept_}\")"
   ]
  },
  {
   "cell_type": "markdown",
   "id": "b692e3cc",
   "metadata": {
    "execution": {
     "iopub.execute_input": "2024-03-02T13:24:48.206730Z",
     "iopub.status.busy": "2024-03-02T13:24:48.206249Z",
     "iopub.status.idle": "2024-03-02T13:24:48.213059Z",
     "shell.execute_reply": "2024-03-02T13:24:48.211291Z",
     "shell.execute_reply.started": "2024-03-02T13:24:48.206697Z"
    },
    "papermill": {
     "duration": 0.017358,
     "end_time": "2024-03-02T13:32:51.358025",
     "exception": false,
     "start_time": "2024-03-02T13:32:51.340667",
     "status": "completed"
    },
    "tags": []
   },
   "source": [
    "As we vectorized the entire text description, we get coefficients on applying the algorithm, can be termed as parameters for evaluating words for predicting the salary.\n",
    "When we insert any new job description, it will preprocessed as mentioned above, vectorized and then can be subjected to algorithms.\n",
    "here, we have used `LinearRegression()` algorithm for predicting the salary, with 78.85% accuracy \n",
    "One can always go for other Regression Algorithms, such as `DecisionTreeRegressor()`, `RandomForestRegressor()`, `KNeighborsRegressor()` and many more."
   ]
  },
  {
   "cell_type": "code",
   "execution_count": null,
   "id": "847180b9",
   "metadata": {
    "papermill": {
     "duration": 0.018213,
     "end_time": "2024-03-02T13:32:51.394030",
     "exception": false,
     "start_time": "2024-03-02T13:32:51.375817",
     "status": "completed"
    },
    "tags": []
   },
   "outputs": [],
   "source": []
  }
 ],
 "metadata": {
  "kaggle": {
   "accelerator": "none",
   "dataSources": [
    {
     "datasetId": 4473899,
     "sourceId": 7670570,
     "sourceType": "datasetVersion"
    }
   ],
   "dockerImageVersionId": 30664,
   "isGpuEnabled": false,
   "isInternetEnabled": true,
   "language": "python",
   "sourceType": "notebook"
  },
  "kernelspec": {
   "display_name": "Python 3",
   "language": "python",
   "name": "python3"
  },
  "language_info": {
   "codemirror_mode": {
    "name": "ipython",
    "version": 3
   },
   "file_extension": ".py",
   "mimetype": "text/x-python",
   "name": "python",
   "nbconvert_exporter": "python",
   "pygments_lexer": "ipython3",
   "version": "3.10.13"
  },
  "papermill": {
   "default_parameters": {},
   "duration": 18.752371,
   "end_time": "2024-03-02T13:32:52.134905",
   "environment_variables": {},
   "exception": null,
   "input_path": "__notebook__.ipynb",
   "output_path": "__notebook__.ipynb",
   "parameters": {},
   "start_time": "2024-03-02T13:32:33.382534",
   "version": "2.5.0"
  }
 },
 "nbformat": 4,
 "nbformat_minor": 5
}
