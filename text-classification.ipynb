{
 "cells": [
  {
   "cell_type": "code",
   "execution_count": null,
   "id": "04033051",
   "metadata": {
    "papermill": {
     "duration": 0.010532,
     "end_time": "2024-01-23T06:33:44.958938",
     "exception": false,
     "start_time": "2024-01-23T06:33:44.948406",
     "status": "completed"
    },
    "tags": []
   },
   "outputs": [],
   "source": []
  },
  {
   "cell_type": "code",
   "execution_count": 1,
   "id": "44dba8c7",
   "metadata": {
    "_cell_guid": "b1076dfc-b9ad-4769-8c92-a6c4dae69d19",
    "_uuid": "8f2839f25d086af736a60e9eeb907d3b93b6e0e5",
    "execution": {
     "iopub.execute_input": "2024-01-23T06:33:44.978186Z",
     "iopub.status.busy": "2024-01-23T06:33:44.976086Z",
     "iopub.status.idle": "2024-01-23T06:33:45.400059Z",
     "shell.execute_reply": "2024-01-23T06:33:45.398967Z"
    },
    "papermill": {
     "duration": 0.435648,
     "end_time": "2024-01-23T06:33:45.402432",
     "exception": false,
     "start_time": "2024-01-23T06:33:44.966784",
     "status": "completed"
    },
    "tags": []
   },
   "outputs": [
    {
     "name": "stdout",
     "output_type": "stream",
     "text": [
      "/kaggle/input/text-classification-documentation/df_file.csv\n"
     ]
    }
   ],
   "source": [
    "# This Python 3 environment comes with many helpful analytics libraries installed\n",
    "# It is defined by the kaggle/python Docker image: https://github.com/kaggle/docker-python\n",
    "# For example, here's several helpful packages to load\n",
    "\n",
    "import numpy as np # linear algebra\n",
    "import pandas as pd # data processing, CSV file I/O (e.g. pd.read_csv)\n",
    "\n",
    "# Input data files are available in the read-only \"../input/\" directory\n",
    "# For example, running this (by clicking run or pressing Shift+Enter) will list all files under the input directory\n",
    "\n",
    "import os\n",
    "for dirname, _, filenames in os.walk('/kaggle/input'):\n",
    "    for filename in filenames:\n",
    "        print(os.path.join(dirname, filename))\n",
    "\n",
    "# You can write up to 20GB to the current directory (/kaggle/working/) that gets preserved as output when you create a version using \"Save & Run All\" \n",
    "# You can also write temporary files to /kaggle/temp/, but they won't be saved outside of the current session"
   ]
  },
  {
   "cell_type": "code",
   "execution_count": 2,
   "id": "083ec0f3",
   "metadata": {
    "execution": {
     "iopub.execute_input": "2024-01-23T06:33:45.421073Z",
     "iopub.status.busy": "2024-01-23T06:33:45.420318Z",
     "iopub.status.idle": "2024-01-23T06:33:46.688476Z",
     "shell.execute_reply": "2024-01-23T06:33:46.687357Z"
    },
    "papermill": {
     "duration": 1.28041,
     "end_time": "2024-01-23T06:33:46.691197",
     "exception": false,
     "start_time": "2024-01-23T06:33:45.410787",
     "status": "completed"
    },
    "tags": []
   },
   "outputs": [],
   "source": [
    "import numpy as np\n",
    "import pandas as pd\n",
    "import matplotlib.pyplot as plt\n",
    "import seaborn as sns\n",
    "import warnings\n",
    "warnings.filterwarnings(\"ignore\")\n",
    "plt.rcParams['figure.figsize']=[10,5]"
   ]
  },
  {
   "cell_type": "code",
   "execution_count": 3,
   "id": "55ef0851",
   "metadata": {
    "execution": {
     "iopub.execute_input": "2024-01-23T06:33:46.709666Z",
     "iopub.status.busy": "2024-01-23T06:33:46.708804Z",
     "iopub.status.idle": "2024-01-23T06:33:46.847436Z",
     "shell.execute_reply": "2024-01-23T06:33:46.846367Z"
    },
    "papermill": {
     "duration": 0.150441,
     "end_time": "2024-01-23T06:33:46.849840",
     "exception": false,
     "start_time": "2024-01-23T06:33:46.699399",
     "status": "completed"
    },
    "tags": []
   },
   "outputs": [
    {
     "data": {
      "text/html": [
       "<div>\n",
       "<style scoped>\n",
       "    .dataframe tbody tr th:only-of-type {\n",
       "        vertical-align: middle;\n",
       "    }\n",
       "\n",
       "    .dataframe tbody tr th {\n",
       "        vertical-align: top;\n",
       "    }\n",
       "\n",
       "    .dataframe thead th {\n",
       "        text-align: right;\n",
       "    }\n",
       "</style>\n",
       "<table border=\"1\" class=\"dataframe\">\n",
       "  <thead>\n",
       "    <tr style=\"text-align: right;\">\n",
       "      <th></th>\n",
       "      <th>Text</th>\n",
       "      <th>Label</th>\n",
       "    </tr>\n",
       "  </thead>\n",
       "  <tbody>\n",
       "    <tr>\n",
       "      <th>0</th>\n",
       "      <td>Budget to set scene for election\\n \\n Gordon B...</td>\n",
       "      <td>0</td>\n",
       "    </tr>\n",
       "    <tr>\n",
       "      <th>1</th>\n",
       "      <td>Army chiefs in regiments decision\\n \\n Militar...</td>\n",
       "      <td>0</td>\n",
       "    </tr>\n",
       "    <tr>\n",
       "      <th>2</th>\n",
       "      <td>Howard denies split over ID cards\\n \\n Michael...</td>\n",
       "      <td>0</td>\n",
       "    </tr>\n",
       "    <tr>\n",
       "      <th>3</th>\n",
       "      <td>Observers to monitor UK election\\n \\n Minister...</td>\n",
       "      <td>0</td>\n",
       "    </tr>\n",
       "    <tr>\n",
       "      <th>4</th>\n",
       "      <td>Kilroy names election seat target\\n \\n Ex-chat...</td>\n",
       "      <td>0</td>\n",
       "    </tr>\n",
       "  </tbody>\n",
       "</table>\n",
       "</div>"
      ],
      "text/plain": [
       "                                                Text  Label\n",
       "0  Budget to set scene for election\\n \\n Gordon B...      0\n",
       "1  Army chiefs in regiments decision\\n \\n Militar...      0\n",
       "2  Howard denies split over ID cards\\n \\n Michael...      0\n",
       "3  Observers to monitor UK election\\n \\n Minister...      0\n",
       "4  Kilroy names election seat target\\n \\n Ex-chat...      0"
      ]
     },
     "execution_count": 3,
     "metadata": {},
     "output_type": "execute_result"
    }
   ],
   "source": [
    "df=pd.read_csv('/kaggle/input/text-classification-documentation/df_file.csv')\n",
    "df.head()"
   ]
  },
  {
   "cell_type": "code",
   "execution_count": 4,
   "id": "609a2186",
   "metadata": {
    "execution": {
     "iopub.execute_input": "2024-01-23T06:33:46.868248Z",
     "iopub.status.busy": "2024-01-23T06:33:46.867837Z",
     "iopub.status.idle": "2024-01-23T06:33:46.874652Z",
     "shell.execute_reply": "2024-01-23T06:33:46.873390Z"
    },
    "papermill": {
     "duration": 0.018976,
     "end_time": "2024-01-23T06:33:46.877203",
     "exception": false,
     "start_time": "2024-01-23T06:33:46.858227",
     "status": "completed"
    },
    "tags": []
   },
   "outputs": [
    {
     "data": {
      "text/plain": [
       "(2225, 2)"
      ]
     },
     "execution_count": 4,
     "metadata": {},
     "output_type": "execute_result"
    }
   ],
   "source": [
    "df.shape"
   ]
  },
  {
   "cell_type": "code",
   "execution_count": 5,
   "id": "2de92866",
   "metadata": {
    "execution": {
     "iopub.execute_input": "2024-01-23T06:33:46.895798Z",
     "iopub.status.busy": "2024-01-23T06:33:46.895006Z",
     "iopub.status.idle": "2024-01-23T06:33:46.924258Z",
     "shell.execute_reply": "2024-01-23T06:33:46.922699Z"
    },
    "papermill": {
     "duration": 0.041244,
     "end_time": "2024-01-23T06:33:46.926746",
     "exception": false,
     "start_time": "2024-01-23T06:33:46.885502",
     "status": "completed"
    },
    "tags": []
   },
   "outputs": [
    {
     "name": "stdout",
     "output_type": "stream",
     "text": [
      "<class 'pandas.core.frame.DataFrame'>\n",
      "RangeIndex: 2225 entries, 0 to 2224\n",
      "Data columns (total 2 columns):\n",
      " #   Column  Non-Null Count  Dtype \n",
      "---  ------  --------------  ----- \n",
      " 0   Text    2225 non-null   object\n",
      " 1   Label   2225 non-null   int64 \n",
      "dtypes: int64(1), object(1)\n",
      "memory usage: 34.9+ KB\n"
     ]
    }
   ],
   "source": [
    "df.info()"
   ]
  },
  {
   "cell_type": "code",
   "execution_count": 6,
   "id": "42583661",
   "metadata": {
    "execution": {
     "iopub.execute_input": "2024-01-23T06:33:46.946078Z",
     "iopub.status.busy": "2024-01-23T06:33:46.945000Z",
     "iopub.status.idle": "2024-01-23T06:33:46.969400Z",
     "shell.execute_reply": "2024-01-23T06:33:46.968419Z"
    },
    "papermill": {
     "duration": 0.036563,
     "end_time": "2024-01-23T06:33:46.971922",
     "exception": false,
     "start_time": "2024-01-23T06:33:46.935359",
     "status": "completed"
    },
    "tags": []
   },
   "outputs": [
    {
     "data": {
      "text/html": [
       "<div>\n",
       "<style scoped>\n",
       "    .dataframe tbody tr th:only-of-type {\n",
       "        vertical-align: middle;\n",
       "    }\n",
       "\n",
       "    .dataframe tbody tr th {\n",
       "        vertical-align: top;\n",
       "    }\n",
       "\n",
       "    .dataframe thead th {\n",
       "        text-align: right;\n",
       "    }\n",
       "</style>\n",
       "<table border=\"1\" class=\"dataframe\">\n",
       "  <thead>\n",
       "    <tr style=\"text-align: right;\">\n",
       "      <th></th>\n",
       "      <th>Text</th>\n",
       "      <th>Label</th>\n",
       "    </tr>\n",
       "  </thead>\n",
       "  <tbody>\n",
       "    <tr>\n",
       "      <th>0</th>\n",
       "      <td>Budget to set scene for election  Gordon Brown...</td>\n",
       "      <td>0</td>\n",
       "    </tr>\n",
       "    <tr>\n",
       "      <th>1</th>\n",
       "      <td>Army chiefs in regiments decision  Military ch...</td>\n",
       "      <td>0</td>\n",
       "    </tr>\n",
       "    <tr>\n",
       "      <th>2</th>\n",
       "      <td>Howard denies split over ID cards  Michael How...</td>\n",
       "      <td>0</td>\n",
       "    </tr>\n",
       "    <tr>\n",
       "      <th>3</th>\n",
       "      <td>Observers to monitor UK election  Ministers wi...</td>\n",
       "      <td>0</td>\n",
       "    </tr>\n",
       "    <tr>\n",
       "      <th>4</th>\n",
       "      <td>Kilroy names election seat target  Ex-chat sho...</td>\n",
       "      <td>0</td>\n",
       "    </tr>\n",
       "  </tbody>\n",
       "</table>\n",
       "</div>"
      ],
      "text/plain": [
       "                                                Text  Label\n",
       "0  Budget to set scene for election  Gordon Brown...      0\n",
       "1  Army chiefs in regiments decision  Military ch...      0\n",
       "2  Howard denies split over ID cards  Michael How...      0\n",
       "3  Observers to monitor UK election  Ministers wi...      0\n",
       "4  Kilroy names election seat target  Ex-chat sho...      0"
      ]
     },
     "execution_count": 6,
     "metadata": {},
     "output_type": "execute_result"
    }
   ],
   "source": [
    "df['Text'] = df['Text'].apply(lambda x:x.replace('\\n',''))\n",
    "df.head()"
   ]
  },
  {
   "cell_type": "code",
   "execution_count": 7,
   "id": "6f1a45d2",
   "metadata": {
    "execution": {
     "iopub.execute_input": "2024-01-23T06:33:46.991140Z",
     "iopub.status.busy": "2024-01-23T06:33:46.990715Z",
     "iopub.status.idle": "2024-01-23T06:33:47.999403Z",
     "shell.execute_reply": "2024-01-23T06:33:47.998162Z"
    },
    "papermill": {
     "duration": 1.021323,
     "end_time": "2024-01-23T06:33:48.002008",
     "exception": false,
     "start_time": "2024-01-23T06:33:46.980685",
     "status": "completed"
    },
    "tags": []
   },
   "outputs": [
    {
     "name": "stdout",
     "output_type": "stream",
     "text": [
      "[nltk_data] Downloading package stopwords to /usr/share/nltk_data...\n",
      "[nltk_data]   Package stopwords is already up-to-date!\n",
      "[nltk_data] Downloading package wordnet to /usr/share/nltk_data...\n",
      "[nltk_data]   Package wordnet is already up-to-date!\n"
     ]
    }
   ],
   "source": [
    "import re\n",
    "import nltk\n",
    "nltk.download('stopwords')\n",
    "from nltk.corpus import stopwords\n",
    "from nltk.tokenize import word_tokenize,sent_tokenize\n",
    "from nltk.stem import PorterStemmer\n",
    "from nltk.stem import WordNetLemmatizer\n",
    "nltk.download('wordnet')  \n",
    "from sklearn.feature_extraction.text import CountVectorizer,TfidfVectorizer"
   ]
  },
  {
   "cell_type": "code",
   "execution_count": 8,
   "id": "ff8bd46b",
   "metadata": {
    "execution": {
     "iopub.execute_input": "2024-01-23T06:33:48.022306Z",
     "iopub.status.busy": "2024-01-23T06:33:48.021278Z",
     "iopub.status.idle": "2024-01-23T06:33:48.028290Z",
     "shell.execute_reply": "2024-01-23T06:33:48.027230Z"
    },
    "papermill": {
     "duration": 0.019344,
     "end_time": "2024-01-23T06:33:48.030577",
     "exception": false,
     "start_time": "2024-01-23T06:33:48.011233",
     "status": "completed"
    },
    "tags": []
   },
   "outputs": [],
   "source": [
    "def preprocessing_text(text):\n",
    "    #lemmatizer = WordNetLemmatizer()\n",
    "    #emoji_pattern = r'^(?:[\\u2700-\\u27bf]|(?:\\ud83c[\\udde6-\\uddff]){1,2}|(?:\\ud83d[\\udc00-\\ude4f]){1,2}|[\\ud800-\\udbff][\\udc00-\\udfff]|[\\u0021-\\u002f\\u003a-\\u0040\\u005b-\\u0060\\u007b-\\u007e]|\\u3299|\\u3297|\\u303d|\\u3030|\\u24c2|\\ud83c[\\udd70-\\udd71]|\\ud83c[\\udd7e-\\udd7f]|\\ud83c\\udd8e|\\ud83c[\\udd91-\\udd9a]|\\ud83c[\\udde6-\\uddff]|\\ud83c[\\ude01-\\ude02]|\\ud83c\\ude1a|\\ud83c\\ude2f|\\ud83c[\\ude32-\\ude3a]|\\ud83c[\\ude50-\\ude51]|\\u203c|\\u2049|\\u25aa|\\u25ab|\\u25b6|\\u25c0|\\u25fb|\\u25fc|\\u25fd|\\u25fe|\\u2600|\\u2601|\\u260e|\\u2611|[^\\u0000-\\u007F])+$'\n",
    "    text= text.lower()\n",
    "    text = text.split()\n",
    "    #text = [lemmatizer.lemmatize(word) for word in text if not word in set(stopwords.words('english'))]\n",
    "    text = ' '.join(text)  \n",
    "    text = re.sub(r'[0-9]+', '', text)\n",
    "    text = re.sub(r'[^\\w\\s]', '', text)\n",
    "    #text = re.sub(emoji_pattern, '', text)\n",
    "    text= re.sub(r'\\s+', ' ', text)\n",
    "    return text"
   ]
  },
  {
   "cell_type": "code",
   "execution_count": 9,
   "id": "b3655eac",
   "metadata": {
    "execution": {
     "iopub.execute_input": "2024-01-23T06:33:48.049856Z",
     "iopub.status.busy": "2024-01-23T06:33:48.049477Z",
     "iopub.status.idle": "2024-01-23T06:33:48.056345Z",
     "shell.execute_reply": "2024-01-23T06:33:48.055622Z"
    },
    "papermill": {
     "duration": 0.019302,
     "end_time": "2024-01-23T06:33:48.058648",
     "exception": false,
     "start_time": "2024-01-23T06:33:48.039346",
     "status": "completed"
    },
    "tags": []
   },
   "outputs": [
    {
     "data": {
      "text/plain": [
       "'budget to set scene for election gordon brown will seek to put the economy at the centre of labours bid for a third term in power when he delivers his ninth budget at gmt he is expected to stress the importance of continued economic stability with low unemployment and interest rates the chancellor is expected to freeze petrol duty and raise the stamp duty threshold from â but the conservatives and lib dems insist voters face higher taxes and more meanstesting under labour treasury officials have said there will not be a preelection giveaway but mr brown is thought to have about âbn to spare increase in the stamp duty threshold from â a freeze on petrol duty an extension of tax credit scheme for poorer families possible help for pensioners the stamp duty threshold rise is intended to help first time buyers a likely theme of all three of the main parties general election manifestos ten years ago buyers had a much greater chance of avoiding stamp duty with close to half a million properties in england and wales alone selling for less than â since then average uk property prices have more than doubled while the starting threshold for stamp duty has not increased tax credits as a result the number of properties incurring stamp duty has rocketed as has the governments tax take the liberal democrats unveiled their own proposals to raise the stamp duty threshold to â in february the tories are also thought likely to propose increased thresholds with shadow chancellor oliver letwin branding stamp duty a classic labour stealth tax the tories say whatever the chancellor gives away will be clawed back in higher taxes if labour is returned to power shadow treasury chief secretary george osborne said everyone who looks at the british economy at the moment says there has been a sharp deterioration in the public finances that there is a black hole he said if labour is elected there will be a very substantial tax increase in the budget after the election of the order of around âbn but mr browns former advisor ed balls now a parliamentary hopeful said an examination of tory plans for the economy showed there would be a âbn difference in investment by the end of the next parliament between the two main parties he added i dont accept there is any need for any changes to the plans we have set out to meet our spending commitments for the lib dems david laws said the chancellor will no doubt tell us today how wonderfully the economy is doing he said but a lot of that is built on an increase in personal and consumer debt over the last few years that makes the economy quite vulnerable potentially if interest rates ever do have to go up in a significant way snp leader alex salmond said his party would introduce a â grant for first time buyers reduce corporation tax and introduce a citizens pension free from means testing plaid cymrus economics spokesman adam price said he wanted help to get people on the housing ladder and an increase in the minimum wage to â an hour'"
      ]
     },
     "execution_count": 9,
     "metadata": {},
     "output_type": "execute_result"
    }
   ],
   "source": [
    "preprocessing_text(df['Text'][0])"
   ]
  },
  {
   "cell_type": "code",
   "execution_count": 10,
   "id": "a534d1c5",
   "metadata": {
    "execution": {
     "iopub.execute_input": "2024-01-23T06:33:48.078901Z",
     "iopub.status.busy": "2024-01-23T06:33:48.078273Z",
     "iopub.status.idle": "2024-01-23T06:33:49.088507Z",
     "shell.execute_reply": "2024-01-23T06:33:49.087392Z"
    },
    "papermill": {
     "duration": 1.022849,
     "end_time": "2024-01-23T06:33:49.090772",
     "exception": false,
     "start_time": "2024-01-23T06:33:48.067923",
     "status": "completed"
    },
    "tags": []
   },
   "outputs": [
    {
     "data": {
      "text/html": [
       "<div>\n",
       "<style scoped>\n",
       "    .dataframe tbody tr th:only-of-type {\n",
       "        vertical-align: middle;\n",
       "    }\n",
       "\n",
       "    .dataframe tbody tr th {\n",
       "        vertical-align: top;\n",
       "    }\n",
       "\n",
       "    .dataframe thead th {\n",
       "        text-align: right;\n",
       "    }\n",
       "</style>\n",
       "<table border=\"1\" class=\"dataframe\">\n",
       "  <thead>\n",
       "    <tr style=\"text-align: right;\">\n",
       "      <th></th>\n",
       "      <th>Text</th>\n",
       "      <th>Label</th>\n",
       "    </tr>\n",
       "  </thead>\n",
       "  <tbody>\n",
       "    <tr>\n",
       "      <th>0</th>\n",
       "      <td>budget to set scene for election gordon brown ...</td>\n",
       "      <td>0</td>\n",
       "    </tr>\n",
       "    <tr>\n",
       "      <th>1</th>\n",
       "      <td>army chiefs in regiments decision military chi...</td>\n",
       "      <td>0</td>\n",
       "    </tr>\n",
       "    <tr>\n",
       "      <th>2</th>\n",
       "      <td>howard denies split over id cards michael howa...</td>\n",
       "      <td>0</td>\n",
       "    </tr>\n",
       "    <tr>\n",
       "      <th>3</th>\n",
       "      <td>observers to monitor uk election ministers wil...</td>\n",
       "      <td>0</td>\n",
       "    </tr>\n",
       "    <tr>\n",
       "      <th>4</th>\n",
       "      <td>kilroy names election seat target exchat show ...</td>\n",
       "      <td>0</td>\n",
       "    </tr>\n",
       "  </tbody>\n",
       "</table>\n",
       "</div>"
      ],
      "text/plain": [
       "                                                Text  Label\n",
       "0  budget to set scene for election gordon brown ...      0\n",
       "1  army chiefs in regiments decision military chi...      0\n",
       "2  howard denies split over id cards michael howa...      0\n",
       "3  observers to monitor uk election ministers wil...      0\n",
       "4  kilroy names election seat target exchat show ...      0"
      ]
     },
     "execution_count": 10,
     "metadata": {},
     "output_type": "execute_result"
    }
   ],
   "source": [
    "df['Text'] = df['Text'].apply(lambda x:preprocessing_text(x))\n",
    "df.head()"
   ]
  },
  {
   "cell_type": "code",
   "execution_count": 11,
   "id": "db801c28",
   "metadata": {
    "execution": {
     "iopub.execute_input": "2024-01-23T06:33:49.111415Z",
     "iopub.status.busy": "2024-01-23T06:33:49.111043Z",
     "iopub.status.idle": "2024-01-23T06:33:49.120793Z",
     "shell.execute_reply": "2024-01-23T06:33:49.119650Z"
    },
    "papermill": {
     "duration": 0.022767,
     "end_time": "2024-01-23T06:33:49.123132",
     "exception": false,
     "start_time": "2024-01-23T06:33:49.100365",
     "status": "completed"
    },
    "tags": []
   },
   "outputs": [
    {
     "data": {
      "text/html": [
       "<style>#sk-container-id-1 {color: black;background-color: white;}#sk-container-id-1 pre{padding: 0;}#sk-container-id-1 div.sk-toggleable {background-color: white;}#sk-container-id-1 label.sk-toggleable__label {cursor: pointer;display: block;width: 100%;margin-bottom: 0;padding: 0.3em;box-sizing: border-box;text-align: center;}#sk-container-id-1 label.sk-toggleable__label-arrow:before {content: \"▸\";float: left;margin-right: 0.25em;color: #696969;}#sk-container-id-1 label.sk-toggleable__label-arrow:hover:before {color: black;}#sk-container-id-1 div.sk-estimator:hover label.sk-toggleable__label-arrow:before {color: black;}#sk-container-id-1 div.sk-toggleable__content {max-height: 0;max-width: 0;overflow: hidden;text-align: left;background-color: #f0f8ff;}#sk-container-id-1 div.sk-toggleable__content pre {margin: 0.2em;color: black;border-radius: 0.25em;background-color: #f0f8ff;}#sk-container-id-1 input.sk-toggleable__control:checked~div.sk-toggleable__content {max-height: 200px;max-width: 100%;overflow: auto;}#sk-container-id-1 input.sk-toggleable__control:checked~label.sk-toggleable__label-arrow:before {content: \"▾\";}#sk-container-id-1 div.sk-estimator input.sk-toggleable__control:checked~label.sk-toggleable__label {background-color: #d4ebff;}#sk-container-id-1 div.sk-label input.sk-toggleable__control:checked~label.sk-toggleable__label {background-color: #d4ebff;}#sk-container-id-1 input.sk-hidden--visually {border: 0;clip: rect(1px 1px 1px 1px);clip: rect(1px, 1px, 1px, 1px);height: 1px;margin: -1px;overflow: hidden;padding: 0;position: absolute;width: 1px;}#sk-container-id-1 div.sk-estimator {font-family: monospace;background-color: #f0f8ff;border: 1px dotted black;border-radius: 0.25em;box-sizing: border-box;margin-bottom: 0.5em;}#sk-container-id-1 div.sk-estimator:hover {background-color: #d4ebff;}#sk-container-id-1 div.sk-parallel-item::after {content: \"\";width: 100%;border-bottom: 1px solid gray;flex-grow: 1;}#sk-container-id-1 div.sk-label:hover label.sk-toggleable__label {background-color: #d4ebff;}#sk-container-id-1 div.sk-serial::before {content: \"\";position: absolute;border-left: 1px solid gray;box-sizing: border-box;top: 0;bottom: 0;left: 50%;z-index: 0;}#sk-container-id-1 div.sk-serial {display: flex;flex-direction: column;align-items: center;background-color: white;padding-right: 0.2em;padding-left: 0.2em;position: relative;}#sk-container-id-1 div.sk-item {position: relative;z-index: 1;}#sk-container-id-1 div.sk-parallel {display: flex;align-items: stretch;justify-content: center;background-color: white;position: relative;}#sk-container-id-1 div.sk-item::before, #sk-container-id-1 div.sk-parallel-item::before {content: \"\";position: absolute;border-left: 1px solid gray;box-sizing: border-box;top: 0;bottom: 0;left: 50%;z-index: -1;}#sk-container-id-1 div.sk-parallel-item {display: flex;flex-direction: column;z-index: 1;position: relative;background-color: white;}#sk-container-id-1 div.sk-parallel-item:first-child::after {align-self: flex-end;width: 50%;}#sk-container-id-1 div.sk-parallel-item:last-child::after {align-self: flex-start;width: 50%;}#sk-container-id-1 div.sk-parallel-item:only-child::after {width: 0;}#sk-container-id-1 div.sk-dashed-wrapped {border: 1px dashed gray;margin: 0 0.4em 0.5em 0.4em;box-sizing: border-box;padding-bottom: 0.4em;background-color: white;}#sk-container-id-1 div.sk-label label {font-family: monospace;font-weight: bold;display: inline-block;line-height: 1.2em;}#sk-container-id-1 div.sk-label-container {text-align: center;}#sk-container-id-1 div.sk-container {/* jupyter's `normalize.less` sets `[hidden] { display: none; }` but bootstrap.min.css set `[hidden] { display: none !important; }` so we also need the `!important` here to be able to override the default hidden behavior on the sphinx rendered scikit-learn.org. See: https://github.com/scikit-learn/scikit-learn/issues/21755 */display: inline-block !important;position: relative;}#sk-container-id-1 div.sk-text-repr-fallback {display: none;}</style><div id=\"sk-container-id-1\" class=\"sk-top-container\"><div class=\"sk-text-repr-fallback\"><pre>TfidfVectorizer()</pre><b>In a Jupyter environment, please rerun this cell to show the HTML representation or trust the notebook. <br />On GitHub, the HTML representation is unable to render, please try loading this page with nbviewer.org.</b></div><div class=\"sk-container\" hidden><div class=\"sk-item\"><div class=\"sk-estimator sk-toggleable\"><input class=\"sk-toggleable__control sk-hidden--visually\" id=\"sk-estimator-id-1\" type=\"checkbox\" checked><label for=\"sk-estimator-id-1\" class=\"sk-toggleable__label sk-toggleable__label-arrow\">TfidfVectorizer</label><div class=\"sk-toggleable__content\"><pre>TfidfVectorizer()</pre></div></div></div></div></div>"
      ],
      "text/plain": [
       "TfidfVectorizer()"
      ]
     },
     "execution_count": 11,
     "metadata": {},
     "output_type": "execute_result"
    }
   ],
   "source": [
    "tf = TfidfVectorizer()\n",
    "tf"
   ]
  },
  {
   "cell_type": "code",
   "execution_count": 12,
   "id": "8cefc41b",
   "metadata": {
    "execution": {
     "iopub.execute_input": "2024-01-23T06:33:49.144042Z",
     "iopub.status.busy": "2024-01-23T06:33:49.143627Z",
     "iopub.status.idle": "2024-01-23T06:33:51.028652Z",
     "shell.execute_reply": "2024-01-23T06:33:51.027654Z"
    },
    "papermill": {
     "duration": 1.898623,
     "end_time": "2024-01-23T06:33:51.031318",
     "exception": false,
     "start_time": "2024-01-23T06:33:49.132695",
     "status": "completed"
    },
    "tags": []
   },
   "outputs": [],
   "source": [
    "vector=tf.fit_transform(df['Text']).toarray()"
   ]
  },
  {
   "cell_type": "code",
   "execution_count": 13,
   "id": "da7808f9",
   "metadata": {
    "execution": {
     "iopub.execute_input": "2024-01-23T06:33:51.052860Z",
     "iopub.status.busy": "2024-01-23T06:33:51.052487Z",
     "iopub.status.idle": "2024-01-23T06:33:51.300759Z",
     "shell.execute_reply": "2024-01-23T06:33:51.299800Z"
    },
    "papermill": {
     "duration": 0.262277,
     "end_time": "2024-01-23T06:33:51.303470",
     "exception": false,
     "start_time": "2024-01-23T06:33:51.041193",
     "status": "completed"
    },
    "tags": []
   },
   "outputs": [],
   "source": [
    "from sklearn.model_selection import train_test_split\n",
    "xtrain,xtest,ytrain,ytest = train_test_split(vector,df['Label'],test_size=0.30)"
   ]
  },
  {
   "cell_type": "code",
   "execution_count": 14,
   "id": "518e3350",
   "metadata": {
    "execution": {
     "iopub.execute_input": "2024-01-23T06:33:51.324597Z",
     "iopub.status.busy": "2024-01-23T06:33:51.324219Z",
     "iopub.status.idle": "2024-01-23T06:33:51.462358Z",
     "shell.execute_reply": "2024-01-23T06:33:51.461308Z"
    },
    "papermill": {
     "duration": 0.152141,
     "end_time": "2024-01-23T06:33:51.465177",
     "exception": false,
     "start_time": "2024-01-23T06:33:51.313036",
     "status": "completed"
    },
    "tags": []
   },
   "outputs": [],
   "source": [
    "from sklearn.ensemble import RandomForestClassifier\n",
    "rf = RandomForestClassifier(n_estimators=70,max_features='sqrt')"
   ]
  },
  {
   "cell_type": "code",
   "execution_count": 15,
   "id": "979876d3",
   "metadata": {
    "execution": {
     "iopub.execute_input": "2024-01-23T06:33:51.487362Z",
     "iopub.status.busy": "2024-01-23T06:33:51.486930Z",
     "iopub.status.idle": "2024-01-23T06:33:54.876216Z",
     "shell.execute_reply": "2024-01-23T06:33:54.875059Z"
    },
    "papermill": {
     "duration": 3.403782,
     "end_time": "2024-01-23T06:33:54.878541",
     "exception": false,
     "start_time": "2024-01-23T06:33:51.474759",
     "status": "completed"
    },
    "tags": []
   },
   "outputs": [
    {
     "data": {
      "text/html": [
       "<style>#sk-container-id-2 {color: black;background-color: white;}#sk-container-id-2 pre{padding: 0;}#sk-container-id-2 div.sk-toggleable {background-color: white;}#sk-container-id-2 label.sk-toggleable__label {cursor: pointer;display: block;width: 100%;margin-bottom: 0;padding: 0.3em;box-sizing: border-box;text-align: center;}#sk-container-id-2 label.sk-toggleable__label-arrow:before {content: \"▸\";float: left;margin-right: 0.25em;color: #696969;}#sk-container-id-2 label.sk-toggleable__label-arrow:hover:before {color: black;}#sk-container-id-2 div.sk-estimator:hover label.sk-toggleable__label-arrow:before {color: black;}#sk-container-id-2 div.sk-toggleable__content {max-height: 0;max-width: 0;overflow: hidden;text-align: left;background-color: #f0f8ff;}#sk-container-id-2 div.sk-toggleable__content pre {margin: 0.2em;color: black;border-radius: 0.25em;background-color: #f0f8ff;}#sk-container-id-2 input.sk-toggleable__control:checked~div.sk-toggleable__content {max-height: 200px;max-width: 100%;overflow: auto;}#sk-container-id-2 input.sk-toggleable__control:checked~label.sk-toggleable__label-arrow:before {content: \"▾\";}#sk-container-id-2 div.sk-estimator input.sk-toggleable__control:checked~label.sk-toggleable__label {background-color: #d4ebff;}#sk-container-id-2 div.sk-label input.sk-toggleable__control:checked~label.sk-toggleable__label {background-color: #d4ebff;}#sk-container-id-2 input.sk-hidden--visually {border: 0;clip: rect(1px 1px 1px 1px);clip: rect(1px, 1px, 1px, 1px);height: 1px;margin: -1px;overflow: hidden;padding: 0;position: absolute;width: 1px;}#sk-container-id-2 div.sk-estimator {font-family: monospace;background-color: #f0f8ff;border: 1px dotted black;border-radius: 0.25em;box-sizing: border-box;margin-bottom: 0.5em;}#sk-container-id-2 div.sk-estimator:hover {background-color: #d4ebff;}#sk-container-id-2 div.sk-parallel-item::after {content: \"\";width: 100%;border-bottom: 1px solid gray;flex-grow: 1;}#sk-container-id-2 div.sk-label:hover label.sk-toggleable__label {background-color: #d4ebff;}#sk-container-id-2 div.sk-serial::before {content: \"\";position: absolute;border-left: 1px solid gray;box-sizing: border-box;top: 0;bottom: 0;left: 50%;z-index: 0;}#sk-container-id-2 div.sk-serial {display: flex;flex-direction: column;align-items: center;background-color: white;padding-right: 0.2em;padding-left: 0.2em;position: relative;}#sk-container-id-2 div.sk-item {position: relative;z-index: 1;}#sk-container-id-2 div.sk-parallel {display: flex;align-items: stretch;justify-content: center;background-color: white;position: relative;}#sk-container-id-2 div.sk-item::before, #sk-container-id-2 div.sk-parallel-item::before {content: \"\";position: absolute;border-left: 1px solid gray;box-sizing: border-box;top: 0;bottom: 0;left: 50%;z-index: -1;}#sk-container-id-2 div.sk-parallel-item {display: flex;flex-direction: column;z-index: 1;position: relative;background-color: white;}#sk-container-id-2 div.sk-parallel-item:first-child::after {align-self: flex-end;width: 50%;}#sk-container-id-2 div.sk-parallel-item:last-child::after {align-self: flex-start;width: 50%;}#sk-container-id-2 div.sk-parallel-item:only-child::after {width: 0;}#sk-container-id-2 div.sk-dashed-wrapped {border: 1px dashed gray;margin: 0 0.4em 0.5em 0.4em;box-sizing: border-box;padding-bottom: 0.4em;background-color: white;}#sk-container-id-2 div.sk-label label {font-family: monospace;font-weight: bold;display: inline-block;line-height: 1.2em;}#sk-container-id-2 div.sk-label-container {text-align: center;}#sk-container-id-2 div.sk-container {/* jupyter's `normalize.less` sets `[hidden] { display: none; }` but bootstrap.min.css set `[hidden] { display: none !important; }` so we also need the `!important` here to be able to override the default hidden behavior on the sphinx rendered scikit-learn.org. See: https://github.com/scikit-learn/scikit-learn/issues/21755 */display: inline-block !important;position: relative;}#sk-container-id-2 div.sk-text-repr-fallback {display: none;}</style><div id=\"sk-container-id-2\" class=\"sk-top-container\"><div class=\"sk-text-repr-fallback\"><pre>RandomForestClassifier(n_estimators=70)</pre><b>In a Jupyter environment, please rerun this cell to show the HTML representation or trust the notebook. <br />On GitHub, the HTML representation is unable to render, please try loading this page with nbviewer.org.</b></div><div class=\"sk-container\" hidden><div class=\"sk-item\"><div class=\"sk-estimator sk-toggleable\"><input class=\"sk-toggleable__control sk-hidden--visually\" id=\"sk-estimator-id-2\" type=\"checkbox\" checked><label for=\"sk-estimator-id-2\" class=\"sk-toggleable__label sk-toggleable__label-arrow\">RandomForestClassifier</label><div class=\"sk-toggleable__content\"><pre>RandomForestClassifier(n_estimators=70)</pre></div></div></div></div></div>"
      ],
      "text/plain": [
       "RandomForestClassifier(n_estimators=70)"
      ]
     },
     "execution_count": 15,
     "metadata": {},
     "output_type": "execute_result"
    }
   ],
   "source": [
    "rf_model = rf.fit(xtrain,ytrain)\n",
    "rf_model"
   ]
  },
  {
   "cell_type": "code",
   "execution_count": 16,
   "id": "5c78cd3d",
   "metadata": {
    "execution": {
     "iopub.execute_input": "2024-01-23T06:33:54.899415Z",
     "iopub.status.busy": "2024-01-23T06:33:54.899032Z",
     "iopub.status.idle": "2024-01-23T06:33:54.972684Z",
     "shell.execute_reply": "2024-01-23T06:33:54.971544Z"
    },
    "papermill": {
     "duration": 0.088079,
     "end_time": "2024-01-23T06:33:54.976282",
     "exception": false,
     "start_time": "2024-01-23T06:33:54.888203",
     "status": "completed"
    },
    "tags": []
   },
   "outputs": [],
   "source": [
    "y_pred = rf_model.predict(xtest)"
   ]
  },
  {
   "cell_type": "code",
   "execution_count": 17,
   "id": "f41be652",
   "metadata": {
    "execution": {
     "iopub.execute_input": "2024-01-23T06:33:54.998128Z",
     "iopub.status.busy": "2024-01-23T06:33:54.997727Z",
     "iopub.status.idle": "2024-01-23T06:33:55.007352Z",
     "shell.execute_reply": "2024-01-23T06:33:55.006259Z"
    },
    "papermill": {
     "duration": 0.02349,
     "end_time": "2024-01-23T06:33:55.009698",
     "exception": false,
     "start_time": "2024-01-23T06:33:54.986208",
     "status": "completed"
    },
    "tags": []
   },
   "outputs": [
    {
     "data": {
      "text/plain": [
       "array([4, 4, 4, 1, 4, 3, 4, 2, 2, 1, 2, 0, 0, 4, 4, 2, 4, 3, 1, 3, 3, 4,\n",
       "       3, 3, 3, 1, 1, 0, 0, 4, 0, 0, 0, 1, 1, 4, 3, 1, 0, 2, 2, 1, 0, 1,\n",
       "       4, 3, 2, 0, 3, 0, 4, 1, 0, 4, 4, 4, 0, 4, 0, 4, 0, 0, 1, 2, 2, 1,\n",
       "       4, 4, 0, 2, 3, 0, 2, 0, 1, 0, 1, 1, 2, 2, 2, 3, 1, 0, 1, 4, 1, 4,\n",
       "       1, 2, 3, 1, 2, 3, 2, 1, 0, 4, 2, 4, 3, 4, 4, 2, 4, 2, 3, 4, 4, 2,\n",
       "       1, 0, 2, 3, 1, 3, 1, 1, 3, 2, 0, 1, 1, 4, 3, 2, 1, 1, 4, 4, 1, 4,\n",
       "       0, 1, 2, 2, 1, 2, 0, 0, 1, 2, 4, 0, 2, 4, 4, 4, 0, 4, 1, 4, 0, 4,\n",
       "       4, 4, 2, 0, 0, 2, 3, 3, 0, 1, 4, 4, 3, 2, 1, 0, 2, 0, 0, 0, 2, 2,\n",
       "       4, 4, 4, 3, 4, 0, 4, 2, 1, 1, 4, 0, 1, 1, 0, 4, 0, 2, 4, 1, 2, 4,\n",
       "       4, 4, 1, 1, 2, 2, 0, 0, 4, 0, 1, 4, 1, 0, 1, 2, 3, 2, 1, 3, 1, 2,\n",
       "       2, 4, 3, 3, 1, 3, 0, 1, 3, 4, 4, 4, 4, 2, 4, 1, 4, 1, 1, 4, 1, 0,\n",
       "       2, 1, 2, 2, 4, 0, 1, 1, 0, 2, 2, 0, 2, 2, 4, 3, 0, 3, 3, 1, 1, 0,\n",
       "       0, 4, 3, 1, 3, 1, 1, 3, 2, 1, 0, 1, 3, 2, 1, 3, 3, 0, 4, 2, 2, 2,\n",
       "       0, 3, 0, 4, 1, 3, 4, 0, 2, 3, 3, 3, 0, 4, 1, 0, 3, 4, 4, 1, 0, 4,\n",
       "       0, 4, 1, 3, 1, 0, 3, 0, 4, 1, 2, 4, 2, 4, 1, 3, 4, 1, 4, 1, 4, 4,\n",
       "       2, 3, 2, 0, 0, 3, 0, 4, 3, 3, 1, 4, 2, 4, 0, 4, 1, 1, 2, 3, 3, 3,\n",
       "       2, 1, 2, 0, 2, 4, 2, 4, 2, 1, 4, 1, 2, 2, 0, 3, 4, 0, 0, 1, 1, 1,\n",
       "       2, 4, 0, 4, 4, 2, 4, 2, 2, 1, 4, 3, 3, 1, 4, 1, 0, 4, 0, 4, 0, 2,\n",
       "       2, 4, 2, 4, 2, 3, 4, 4, 3, 4, 4, 3, 1, 0, 4, 4, 1, 4, 1, 1, 2, 0,\n",
       "       1, 3, 0, 2, 1, 4, 4, 4, 3, 1, 2, 1, 1, 3, 1, 0, 1, 1, 3, 0, 1, 2,\n",
       "       1, 1, 0, 4, 4, 4, 4, 0, 1, 0, 1, 0, 4, 4, 2, 3, 0, 2, 4, 0, 2, 4,\n",
       "       0, 4, 1, 3, 2, 0, 0, 4, 0, 4, 0, 3, 4, 4, 2, 1, 1, 2, 2, 4, 0, 1,\n",
       "       4, 3, 0, 2, 3, 4, 3, 2, 2, 3, 4, 3, 2, 1, 0, 1, 0, 3, 4, 4, 2, 1,\n",
       "       3, 4, 0, 2, 4, 0, 1, 1, 1, 1, 3, 0, 1, 2, 0, 3, 4, 4, 0, 3, 4, 4,\n",
       "       1, 4, 2, 1, 1, 1, 3, 4, 1, 4, 1, 2, 0, 3, 4, 4, 3, 0, 3, 3, 4, 4,\n",
       "       4, 1, 1, 0, 4, 4, 4, 1, 3, 4, 1, 4, 3, 4, 2, 3, 1, 1, 1, 2, 4, 3,\n",
       "       1, 2, 2, 4, 4, 3, 1, 2, 2, 2, 2, 1, 2, 1, 0, 3, 1, 1, 3, 0, 3, 2,\n",
       "       4, 3, 1, 2, 2, 4, 1, 4, 3, 4, 0, 1, 4, 4, 4, 4, 1, 2, 0, 2, 1, 4,\n",
       "       0, 3, 3, 0, 4, 1, 2, 0, 0, 1, 1, 3, 4, 3, 0, 4, 4, 1, 1, 1, 4, 3,\n",
       "       1, 1, 4, 1, 2, 4, 2, 0, 3, 4, 4, 1, 0, 2, 4, 2, 2, 2, 1, 1, 4, 2,\n",
       "       1, 1, 4, 0, 2, 4, 1, 1])"
      ]
     },
     "execution_count": 17,
     "metadata": {},
     "output_type": "execute_result"
    }
   ],
   "source": [
    "y_pred"
   ]
  },
  {
   "cell_type": "code",
   "execution_count": 18,
   "id": "638b8d00",
   "metadata": {
    "execution": {
     "iopub.execute_input": "2024-01-23T06:33:55.031844Z",
     "iopub.status.busy": "2024-01-23T06:33:55.031475Z",
     "iopub.status.idle": "2024-01-23T06:33:55.036388Z",
     "shell.execute_reply": "2024-01-23T06:33:55.035380Z"
    },
    "papermill": {
     "duration": 0.018416,
     "end_time": "2024-01-23T06:33:55.038650",
     "exception": false,
     "start_time": "2024-01-23T06:33:55.020234",
     "status": "completed"
    },
    "tags": []
   },
   "outputs": [],
   "source": [
    "from sklearn.metrics import accuracy_score"
   ]
  },
  {
   "cell_type": "code",
   "execution_count": 19,
   "id": "50b30a7a",
   "metadata": {
    "execution": {
     "iopub.execute_input": "2024-01-23T06:33:55.060491Z",
     "iopub.status.busy": "2024-01-23T06:33:55.060116Z",
     "iopub.status.idle": "2024-01-23T06:33:55.068147Z",
     "shell.execute_reply": "2024-01-23T06:33:55.067204Z"
    },
    "papermill": {
     "duration": 0.021542,
     "end_time": "2024-01-23T06:33:55.070175",
     "exception": false,
     "start_time": "2024-01-23T06:33:55.048633",
     "status": "completed"
    },
    "tags": []
   },
   "outputs": [
    {
     "data": {
      "text/plain": [
       "0.9401197604790419"
      ]
     },
     "execution_count": 19,
     "metadata": {},
     "output_type": "execute_result"
    }
   ],
   "source": [
    "accuracy_score(ytest,y_pred)"
   ]
  },
  {
   "cell_type": "code",
   "execution_count": 20,
   "id": "b36024fb",
   "metadata": {
    "execution": {
     "iopub.execute_input": "2024-01-23T06:33:55.091666Z",
     "iopub.status.busy": "2024-01-23T06:33:55.091259Z",
     "iopub.status.idle": "2024-01-23T06:33:55.471611Z",
     "shell.execute_reply": "2024-01-23T06:33:55.470675Z"
    },
    "papermill": {
     "duration": 0.394238,
     "end_time": "2024-01-23T06:33:55.474352",
     "exception": false,
     "start_time": "2024-01-23T06:33:55.080114",
     "status": "completed"
    },
    "tags": []
   },
   "outputs": [
    {
     "data": {
      "image/png": "[encoded data removed]",
      "text/plain": [
       "<Figure size 1000x500 with 2 Axes>"
      ]
     },
     "metadata": {},
     "output_type": "display_data"
    }
   ],
   "source": [
    "sns.heatmap(pd.crosstab(ytest,y_pred),annot=True)\n",
    "plt.show()"
   ]
  },
  {
   "cell_type": "code",
   "execution_count": 21,
   "id": "af868240",
   "metadata": {
    "execution": {
     "iopub.execute_input": "2024-01-23T06:33:55.498248Z",
     "iopub.status.busy": "2024-01-23T06:33:55.497313Z",
     "iopub.status.idle": "2024-01-23T06:33:55.570172Z",
     "shell.execute_reply": "2024-01-23T06:33:55.569035Z"
    },
    "papermill": {
     "duration": 0.087427,
     "end_time": "2024-01-23T06:33:55.572648",
     "exception": false,
     "start_time": "2024-01-23T06:33:55.485221",
     "status": "completed"
    },
    "tags": []
   },
   "outputs": [
    {
     "data": {
      "text/plain": [
       "(0.009151150371728686, 0.0)"
      ]
     },
     "execution_count": 21,
     "metadata": {},
     "output_type": "execute_result"
    }
   ],
   "source": [
    "max(rf_model.feature_importances_),min(rf_model.feature_importances_)"
   ]
  },
  {
   "cell_type": "code",
   "execution_count": null,
   "id": "18d60b70",
   "metadata": {
    "papermill": {
     "duration": 0.010774,
     "end_time": "2024-01-23T06:33:55.594138",
     "exception": false,
     "start_time": "2024-01-23T06:33:55.583364",
     "status": "completed"
    },
    "tags": []
   },
   "outputs": [],
   "source": []
  },
  {
   "cell_type": "code",
   "execution_count": null,
   "id": "b81de023",
   "metadata": {
    "papermill": {
     "duration": 0.010532,
     "end_time": "2024-01-23T06:33:55.615391",
     "exception": false,
     "start_time": "2024-01-23T06:33:55.604859",
     "status": "completed"
    },
    "tags": []
   },
   "outputs": [],
   "source": []
  }
 ],
 "metadata": {
  "kaggle": {
   "accelerator": "none",
   "dataSources": [
    {
     "datasetId": 4295346,
     "sourceId": 7389273,
     "sourceType": "datasetVersion"
    }
   ],
   "dockerImageVersionId": 30635,
   "isGpuEnabled": false,
   "isInternetEnabled": true,
   "language": "python",
   "sourceType": "notebook"
  },
  "kernelspec": {
   "display_name": "Python 3",
   "language": "python",
   "name": "python3"
  },
  "language_info": {
   "codemirror_mode": {
    "name": "ipython",
    "version": 3
   },
   "file_extension": ".py",
   "mimetype": "text/x-python",
   "name": "python",
   "nbconvert_exporter": "python",
   "pygments_lexer": "ipython3",
   "version": "3.10.12"
  },
  "papermill": {
   "default_parameters": {},
   "duration": 14.717565,
   "end_time": "2024-01-23T06:33:56.347492",
   "environment_variables": {},
   "exception": null,
   "input_path": "__notebook__.ipynb",
   "output_path": "__notebook__.ipynb",
   "parameters": {},
   "start_time": "2024-01-23T06:33:41.629927",
   "version": "2.4.0"
  }
 },
 "nbformat": 4,
 "nbformat_minor": 5
}
